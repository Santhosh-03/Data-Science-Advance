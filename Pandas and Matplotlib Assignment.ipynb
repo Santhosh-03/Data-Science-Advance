{
 "cells": [
  {
   "cell_type": "code",
   "execution_count": 1,
   "metadata": {
    "executionInfo": {
     "elapsed": 2201,
     "status": "ok",
     "timestamp": 1610868696502,
     "user": {
      "displayName": "Santhosh muruganantham",
      "photoUrl": "",
      "userId": "17035721003104891216"
     },
     "user_tz": -330
    },
    "id": "KIX0SUmpXAuX"
   },
   "outputs": [],
   "source": [
    "import warnings\n",
    "warnings.filterwarnings('ignore')"
   ]
  },
  {
   "cell_type": "markdown",
   "metadata": {
    "id": "3b43b1NcXAvS"
   },
   "source": [
    "# Questions 1:\n",
    "## Pandas Assignment"
   ]
  },
  {
   "cell_type": "markdown",
   "metadata": {
    "id": "cKW91GbyXAvW"
   },
   "source": [
    "### How to import pandas and check the version?"
   ]
  },
  {
   "cell_type": "code",
   "execution_count": 2,
   "metadata": {
    "colab": {
     "base_uri": "https://localhost:8080/",
     "height": 35
    },
    "executionInfo": {
     "elapsed": 2165,
     "status": "ok",
     "timestamp": 1610868701023,
     "user": {
      "displayName": "Santhosh muruganantham",
      "photoUrl": "",
      "userId": "17035721003104891216"
     },
     "user_tz": -330
    },
    "id": "QZHQ6e26XAva",
    "outputId": "1394fd2e-e824-4008-e6b6-3839ddc3bace"
   },
   "outputs": [
    {
     "data": {
      "text/plain": [
       "'1.0.5'"
      ]
     },
     "execution_count": 2,
     "metadata": {},
     "output_type": "execute_result"
    }
   ],
   "source": [
    "import numpy as np\n",
    "import pandas as pd\n",
    "pd.__version__"
   ]
  },
  {
   "cell_type": "markdown",
   "metadata": {
    "id": "a6-Y1LEPXAvq"
   },
   "source": [
    "### How to convert the index of a series into a column of a dataframe?"
   ]
  },
  {
   "cell_type": "code",
   "execution_count": 3,
   "metadata": {
    "colab": {
     "base_uri": "https://localhost:8080/"
    },
    "executionInfo": {
     "elapsed": 1851,
     "status": "ok",
     "timestamp": 1610868707323,
     "user": {
      "displayName": "Santhosh muruganantham",
      "photoUrl": "",
      "userId": "17035721003104891216"
     },
     "user_tz": -330
    },
    "id": "5PaxJ8GJXAvu",
    "outputId": "9139e24f-3e32-4b0a-800c-ed3f708dd585"
   },
   "outputs": [
    {
     "data": {
      "text/plain": [
       "A           Yamaha\n",
       "B    Royal Enfield\n",
       "C           Apache\n",
       "D           Ducati\n",
       "dtype: object"
      ]
     },
     "execution_count": 3,
     "metadata": {},
     "output_type": "execute_result"
    }
   ],
   "source": [
    "s = pd.Series([ \"Yamaha\" , \"Royal Enfield\" , \"Apache\" , \"Ducati\" ],\n",
    "              index = [ \"A\" , \"B\" , \"C\" , \"D\" ])\n",
    "s"
   ]
  },
  {
   "cell_type": "code",
   "execution_count": 4,
   "metadata": {
    "colab": {
     "base_uri": "https://localhost:8080/",
     "height": 172
    },
    "executionInfo": {
     "elapsed": 1941,
     "status": "ok",
     "timestamp": 1610868713413,
     "user": {
      "displayName": "Santhosh muruganantham",
      "photoUrl": "",
      "userId": "17035721003104891216"
     },
     "user_tz": -330
    },
    "id": "FlyPzOyBXAvx",
    "outputId": "78b16355-aadc-4ea8-dceb-e0f6539711d7"
   },
   "outputs": [
    {
     "data": {
      "text/html": [
       "<div>\n",
       "<style scoped>\n",
       "    .dataframe tbody tr th:only-of-type {\n",
       "        vertical-align: middle;\n",
       "    }\n",
       "\n",
       "    .dataframe tbody tr th {\n",
       "        vertical-align: top;\n",
       "    }\n",
       "\n",
       "    .dataframe thead th {\n",
       "        text-align: right;\n",
       "    }\n",
       "</style>\n",
       "<table border=\"1\" class=\"dataframe\">\n",
       "  <thead>\n",
       "    <tr style=\"text-align: right;\">\n",
       "      <th></th>\n",
       "      <th>index</th>\n",
       "      <th>0</th>\n",
       "    </tr>\n",
       "  </thead>\n",
       "  <tbody>\n",
       "    <tr>\n",
       "      <th>0</th>\n",
       "      <td>A</td>\n",
       "      <td>Yamaha</td>\n",
       "    </tr>\n",
       "    <tr>\n",
       "      <th>1</th>\n",
       "      <td>B</td>\n",
       "      <td>Royal Enfield</td>\n",
       "    </tr>\n",
       "    <tr>\n",
       "      <th>2</th>\n",
       "      <td>C</td>\n",
       "      <td>Apache</td>\n",
       "    </tr>\n",
       "    <tr>\n",
       "      <th>3</th>\n",
       "      <td>D</td>\n",
       "      <td>Ducati</td>\n",
       "    </tr>\n",
       "  </tbody>\n",
       "</table>\n",
       "</div>"
      ],
      "text/plain": [
       "  index              0\n",
       "0     A         Yamaha\n",
       "1     B  Royal Enfield\n",
       "2     C         Apache\n",
       "3     D         Ducati"
      ]
     },
     "execution_count": 4,
     "metadata": {},
     "output_type": "execute_result"
    }
   ],
   "source": [
    "df = pd.DataFrame(s) \n",
    "df.reset_index()"
   ]
  },
  {
   "cell_type": "markdown",
   "metadata": {
    "id": "Rd-dIjohXAv0"
   },
   "source": [
    "### How to combine many series to form a dataframe?"
   ]
  },
  {
   "cell_type": "code",
   "execution_count": 5,
   "metadata": {
    "executionInfo": {
     "elapsed": 1671,
     "status": "ok",
     "timestamp": 1610868720754,
     "user": {
      "displayName": "Santhosh muruganantham",
      "photoUrl": "",
      "userId": "17035721003104891216"
     },
     "user_tz": -330
    },
    "id": "3yh3Xy3nXAv2"
   },
   "outputs": [],
   "source": [
    "s1 = pd.Series([ \"Yamaha\" , \"Royal Enfield\" , \"Apache\" , \"Ducati\" ] , name = \"Bike Name\")\n",
    "s2 = pd.Series([ 2008 , 2010 , 2009 , 2013 ] , name = \"Model\")\n",
    "s3 = pd.Series([ 80000 , 120000 , 95000 , 135000 ] , name = \"Market value\")"
   ]
  },
  {
   "cell_type": "code",
   "execution_count": 6,
   "metadata": {
    "colab": {
     "base_uri": "https://localhost:8080/",
     "height": 172
    },
    "executionInfo": {
     "elapsed": 1505,
     "status": "ok",
     "timestamp": 1610868723098,
     "user": {
      "displayName": "Santhosh muruganantham",
      "photoUrl": "",
      "userId": "17035721003104891216"
     },
     "user_tz": -330
    },
    "id": "f9TyeP5FXAv5",
    "outputId": "b5b61460-b506-4b9c-c48d-85cc95b1cfca"
   },
   "outputs": [
    {
     "data": {
      "text/html": [
       "<div>\n",
       "<style scoped>\n",
       "    .dataframe tbody tr th:only-of-type {\n",
       "        vertical-align: middle;\n",
       "    }\n",
       "\n",
       "    .dataframe tbody tr th {\n",
       "        vertical-align: top;\n",
       "    }\n",
       "\n",
       "    .dataframe thead th {\n",
       "        text-align: right;\n",
       "    }\n",
       "</style>\n",
       "<table border=\"1\" class=\"dataframe\">\n",
       "  <thead>\n",
       "    <tr style=\"text-align: right;\">\n",
       "      <th></th>\n",
       "      <th>Bike Name</th>\n",
       "      <th>Model</th>\n",
       "      <th>Market value</th>\n",
       "    </tr>\n",
       "  </thead>\n",
       "  <tbody>\n",
       "    <tr>\n",
       "      <th>0</th>\n",
       "      <td>Yamaha</td>\n",
       "      <td>2008</td>\n",
       "      <td>80000</td>\n",
       "    </tr>\n",
       "    <tr>\n",
       "      <th>1</th>\n",
       "      <td>Royal Enfield</td>\n",
       "      <td>2010</td>\n",
       "      <td>120000</td>\n",
       "    </tr>\n",
       "    <tr>\n",
       "      <th>2</th>\n",
       "      <td>Apache</td>\n",
       "      <td>2009</td>\n",
       "      <td>95000</td>\n",
       "    </tr>\n",
       "    <tr>\n",
       "      <th>3</th>\n",
       "      <td>Ducati</td>\n",
       "      <td>2013</td>\n",
       "      <td>135000</td>\n",
       "    </tr>\n",
       "  </tbody>\n",
       "</table>\n",
       "</div>"
      ],
      "text/plain": [
       "       Bike Name  Model  Market value\n",
       "0         Yamaha   2008         80000\n",
       "1  Royal Enfield   2010        120000\n",
       "2         Apache   2009         95000\n",
       "3         Ducati   2013        135000"
      ]
     },
     "execution_count": 6,
     "metadata": {},
     "output_type": "execute_result"
    }
   ],
   "source": [
    "df = pd.concat([s1,s2,s3],axis=1)\n",
    "df"
   ]
  },
  {
   "cell_type": "markdown",
   "metadata": {
    "id": "b2U-jZLNXAv8"
   },
   "source": [
    "### How to assign a name to the series’ index?"
   ]
  },
  {
   "cell_type": "code",
   "execution_count": 7,
   "metadata": {
    "colab": {
     "base_uri": "https://localhost:8080/"
    },
    "executionInfo": {
     "elapsed": 1961,
     "status": "ok",
     "timestamp": 1610868729716,
     "user": {
      "displayName": "Santhosh muruganantham",
      "photoUrl": "",
      "userId": "17035721003104891216"
     },
     "user_tz": -330
    },
    "id": "DB5Je7WIXAv-",
    "outputId": "61b7b37e-f25e-43dc-f871-8e811993f287"
   },
   "outputs": [
    {
     "data": {
      "text/plain": [
       "2008           Yamaha\n",
       "2010    Royal Enfield\n",
       "2009           Apache\n",
       "2013           Ducati\n",
       "Name: Bike Name, dtype: object"
      ]
     },
     "execution_count": 7,
     "metadata": {},
     "output_type": "execute_result"
    }
   ],
   "source": [
    "s = pd.Series([ \"Yamaha\" , \"Royal Enfield\" , \"Apache\" , \"Ducati\" ] , name = \"Bike Name\",\n",
    "              index= [2008,2010,2009,2013])\n",
    "s"
   ]
  },
  {
   "cell_type": "code",
   "execution_count": 8,
   "metadata": {
    "colab": {
     "base_uri": "https://localhost:8080/"
    },
    "executionInfo": {
     "elapsed": 5124,
     "status": "ok",
     "timestamp": 1610862977907,
     "user": {
      "displayName": "Santhosh muruganantham",
      "photoUrl": "",
      "userId": "17035721003104891216"
     },
     "user_tz": -330
    },
    "id": "5Fa1_AvjXAwB",
    "outputId": "00b84584-7c54-4fbb-9c73-8222947e1f25"
   },
   "outputs": [
    {
     "data": {
      "text/plain": [
       "Model\n",
       "2008           Yamaha\n",
       "2010    Royal Enfield\n",
       "2009           Apache\n",
       "2013           Ducati\n",
       "Name: Bike Name, dtype: object"
      ]
     },
     "execution_count": 8,
     "metadata": {},
     "output_type": "execute_result"
    }
   ],
   "source": [
    "s.rename_axis(\"Model\")"
   ]
  },
  {
   "cell_type": "markdown",
   "metadata": {
    "id": "Xh_hf0dzXAwE"
   },
   "source": [
    "### How to get the minimum, 25th percentile, median, 75th, and max of a numeric series?"
   ]
  },
  {
   "cell_type": "code",
   "execution_count": 9,
   "metadata": {
    "colab": {
     "base_uri": "https://localhost:8080/"
    },
    "executionInfo": {
     "elapsed": 1628,
     "status": "ok",
     "timestamp": 1610868738918,
     "user": {
      "displayName": "Santhosh muruganantham",
      "photoUrl": "",
      "userId": "17035721003104891216"
     },
     "user_tz": -330
    },
    "id": "QVj4MYdkXAwG",
    "outputId": "a6b72c2e-1cdc-44e4-c6b5-61394733e7c1"
   },
   "outputs": [
    {
     "data": {
      "text/plain": [
       "0    98\n",
       "1    78\n",
       "2    90\n",
       "3    97\n",
       "4    60\n",
       "5    66\n",
       "6    81\n",
       "7    69\n",
       "8    98\n",
       "9    87\n",
       "dtype: int64"
      ]
     },
     "execution_count": 9,
     "metadata": {},
     "output_type": "execute_result"
    }
   ],
   "source": [
    "s = pd.Series([98,78,90,97,60,66,81,69,98,87])\n",
    "s"
   ]
  },
  {
   "cell_type": "code",
   "execution_count": 10,
   "metadata": {
    "colab": {
     "base_uri": "https://localhost:8080/"
    },
    "executionInfo": {
     "elapsed": 2660,
     "status": "ok",
     "timestamp": 1610868757709,
     "user": {
      "displayName": "Santhosh muruganantham",
      "photoUrl": "",
      "userId": "17035721003104891216"
     },
     "user_tz": -330
    },
    "id": "FA-jDoDYXAwI",
    "outputId": "13a9ae62-fda7-45b2-b5b1-6de92610d74c"
   },
   "outputs": [
    {
     "data": {
      "text/plain": [
       "0.25    71.25\n",
       "0.50    84.00\n",
       "0.75    95.25\n",
       "1.00    98.00\n",
       "dtype: float64"
      ]
     },
     "execution_count": 10,
     "metadata": {},
     "output_type": "execute_result"
    }
   ],
   "source": [
    "s.quantile(q = [.25,.50,.75,1])"
   ]
  },
  {
   "cell_type": "markdown",
   "metadata": {
    "id": "A6Bhyhj8XAwL"
   },
   "source": [
    "### What is qcut() in Pandas?"
   ]
  },
  {
   "cell_type": "markdown",
   "metadata": {
    "id": "UFkM4Funs0Rn"
   },
   "source": [
    "qcut - “Quantile-based discretization function.” This basically means that qcut tries to divide up the underlying data into equal sized bins. The function defines the bins using percentiles based on the distribution of the data, not the actual numeric edges of the bin"
   ]
  },
  {
   "cell_type": "code",
   "execution_count": 76,
   "metadata": {
    "colab": {
     "base_uri": "https://localhost:8080/"
    },
    "executionInfo": {
     "elapsed": 3939,
     "status": "ok",
     "timestamp": 1610868769757,
     "user": {
      "displayName": "Santhosh muruganantham",
      "photoUrl": "",
      "userId": "17035721003104891216"
     },
     "user_tz": -330
    },
    "id": "0KY-6WCZXAwN",
    "outputId": "61a2b899-b85b-447c-9a3b-01edb06176bd"
   },
   "outputs": [],
   "source": [
    "num_series = pd.Series(range(100))"
   ]
  },
  {
   "cell_type": "code",
   "execution_count": 73,
   "metadata": {
    "colab": {
     "base_uri": "https://localhost:8080/"
    },
    "executionInfo": {
     "elapsed": 1224,
     "status": "ok",
     "timestamp": 1610868773185,
     "user": {
      "displayName": "Santhosh muruganantham",
      "photoUrl": "",
      "userId": "17035721003104891216"
     },
     "user_tz": -330
    },
    "id": "QnCxEEQTtX7h",
    "outputId": "1e669c42-4ad6-4015-9f8d-f573a87645d8"
   },
   "outputs": [
    {
     "data": {
      "text/plain": [
       "0     (-0.001, 24.75]\n",
       "1     (-0.001, 24.75]\n",
       "2     (-0.001, 24.75]\n",
       "3     (-0.001, 24.75]\n",
       "4     (-0.001, 24.75]\n",
       "           ...       \n",
       "95      (74.25, 99.0]\n",
       "96      (74.25, 99.0]\n",
       "97      (74.25, 99.0]\n",
       "98      (74.25, 99.0]\n",
       "99      (74.25, 99.0]\n",
       "Length: 100, dtype: category\n",
       "Categories (4, interval[float64]): [(-0.001, 24.75] < (24.75, 49.5] < (49.5, 74.25] < (74.25, 99.0]]"
      ]
     },
     "execution_count": 73,
     "metadata": {},
     "output_type": "execute_result"
    }
   ],
   "source": [
    "q_cut = pd.qcut(num_series,4)\n",
    "q_cut"
   ]
  },
  {
   "cell_type": "code",
   "execution_count": 74,
   "metadata": {},
   "outputs": [
    {
     "data": {
      "text/plain": [
       "(74.25, 99.0]      25\n",
       "(49.5, 74.25]      25\n",
       "(24.75, 49.5]      25\n",
       "(-0.001, 24.75]    25\n",
       "dtype: int64"
      ]
     },
     "execution_count": 74,
     "metadata": {},
     "output_type": "execute_result"
    }
   ],
   "source": [
    "pd.Series(pd.qcut(range(100), 4)).value_counts()"
   ]
  },
  {
   "cell_type": "markdown",
   "metadata": {
    "id": "2LVhN8VMXAwP"
   },
   "source": [
    "### How to find the positions of numbers that are multiples of 3 from a series? \n"
   ]
  },
  {
   "cell_type": "code",
   "execution_count": 13,
   "metadata": {
    "executionInfo": {
     "elapsed": 1081,
     "status": "ok",
     "timestamp": 1610868781679,
     "user": {
      "displayName": "Santhosh muruganantham",
      "photoUrl": "",
      "userId": "17035721003104891216"
     },
     "user_tz": -330
    },
    "id": "y92ECDSkXAwQ"
   },
   "outputs": [],
   "source": [
    "s = pd.Series(range(0,50,2))"
   ]
  },
  {
   "cell_type": "code",
   "execution_count": 14,
   "metadata": {
    "colab": {
     "base_uri": "https://localhost:8080/"
    },
    "executionInfo": {
     "elapsed": 1751,
     "status": "ok",
     "timestamp": 1610868783890,
     "user": {
      "displayName": "Santhosh muruganantham",
      "photoUrl": "",
      "userId": "17035721003104891216"
     },
     "user_tz": -330
    },
    "id": "gFvF39GuXAwR",
    "outputId": "c4e0951e-44c9-4870-8907-6a56960ac7c9"
   },
   "outputs": [
    {
     "data": {
      "text/plain": [
       "0      0\n",
       "3      6\n",
       "6     12\n",
       "9     18\n",
       "12    24\n",
       "15    30\n",
       "18    36\n",
       "21    42\n",
       "24    48\n",
       "dtype: int64"
      ]
     },
     "execution_count": 14,
     "metadata": {},
     "output_type": "execute_result"
    }
   ],
   "source": [
    "s[s%3==0]"
   ]
  },
  {
   "cell_type": "markdown",
   "metadata": {
    "id": "PXYi1qMsXAwV"
   },
   "source": [
    "### How to stack two series vertically and horizontally ?"
   ]
  },
  {
   "cell_type": "code",
   "execution_count": 15,
   "metadata": {
    "executionInfo": {
     "elapsed": 1540,
     "status": "ok",
     "timestamp": 1610868797344,
     "user": {
      "displayName": "Santhosh muruganantham",
      "photoUrl": "",
      "userId": "17035721003104891216"
     },
     "user_tz": -330
    },
    "id": "mAuEq8g2XAwX"
   },
   "outputs": [],
   "source": [
    "s1 = pd.Series([ 10 , 20 , 30 , 40 , 50 ])\n",
    "s2 = pd.Series([ 60 , 70 , 80 , 90 , 100 ])"
   ]
  },
  {
   "cell_type": "code",
   "execution_count": 16,
   "metadata": {
    "executionInfo": {
     "elapsed": 2266,
     "status": "ok",
     "timestamp": 1610868873121,
     "user": {
      "displayName": "Santhosh muruganantham",
      "photoUrl": "",
      "userId": "17035721003104891216"
     },
     "user_tz": -330
    },
    "id": "iMQHx60WXAwZ"
   },
   "outputs": [],
   "source": [
    "#vertical stacking\n",
    "v_stack = pd.concat(( s1 , s2 ) , axis = 0 , ignore_index = True)"
   ]
  },
  {
   "cell_type": "code",
   "execution_count": 17,
   "metadata": {
    "colab": {
     "base_uri": "https://localhost:8080/"
    },
    "executionInfo": {
     "elapsed": 865,
     "status": "ok",
     "timestamp": 1610868875306,
     "user": {
      "displayName": "Santhosh muruganantham",
      "photoUrl": "",
      "userId": "17035721003104891216"
     },
     "user_tz": -330
    },
    "id": "QAtefLMFXAwb",
    "outputId": "3aa40ba2-a94a-4d63-b9d1-c96e8dc40420"
   },
   "outputs": [
    {
     "data": {
      "text/plain": [
       "0     10\n",
       "1     20\n",
       "2     30\n",
       "3     40\n",
       "4     50\n",
       "5     60\n",
       "6     70\n",
       "7     80\n",
       "8     90\n",
       "9    100\n",
       "dtype: int64"
      ]
     },
     "execution_count": 17,
     "metadata": {},
     "output_type": "execute_result"
    }
   ],
   "source": [
    "v_stack"
   ]
  },
  {
   "cell_type": "code",
   "execution_count": 18,
   "metadata": {
    "executionInfo": {
     "elapsed": 3673,
     "status": "ok",
     "timestamp": 1610868984369,
     "user": {
      "displayName": "Santhosh muruganantham",
      "photoUrl": "",
      "userId": "17035721003104891216"
     },
     "user_tz": -330
    },
    "id": "W89G8iJNXAwd"
   },
   "outputs": [],
   "source": [
    "#horizontal stacking\n",
    "h_stack = pd.concat(( s1 , s2 ) , axis = 1)"
   ]
  },
  {
   "cell_type": "code",
   "execution_count": 19,
   "metadata": {
    "colab": {
     "base_uri": "https://localhost:8080/",
     "height": 203
    },
    "executionInfo": {
     "elapsed": 2181,
     "status": "ok",
     "timestamp": 1610868985944,
     "user": {
      "displayName": "Santhosh muruganantham",
      "photoUrl": "",
      "userId": "17035721003104891216"
     },
     "user_tz": -330
    },
    "id": "Tg-MjVAtXAwe",
    "outputId": "67b7bfd4-777e-4b1a-d00e-d5d27cf30483"
   },
   "outputs": [
    {
     "data": {
      "text/html": [
       "<div>\n",
       "<style scoped>\n",
       "    .dataframe tbody tr th:only-of-type {\n",
       "        vertical-align: middle;\n",
       "    }\n",
       "\n",
       "    .dataframe tbody tr th {\n",
       "        vertical-align: top;\n",
       "    }\n",
       "\n",
       "    .dataframe thead th {\n",
       "        text-align: right;\n",
       "    }\n",
       "</style>\n",
       "<table border=\"1\" class=\"dataframe\">\n",
       "  <thead>\n",
       "    <tr style=\"text-align: right;\">\n",
       "      <th></th>\n",
       "      <th>0</th>\n",
       "      <th>1</th>\n",
       "    </tr>\n",
       "  </thead>\n",
       "  <tbody>\n",
       "    <tr>\n",
       "      <th>0</th>\n",
       "      <td>10</td>\n",
       "      <td>60</td>\n",
       "    </tr>\n",
       "    <tr>\n",
       "      <th>1</th>\n",
       "      <td>20</td>\n",
       "      <td>70</td>\n",
       "    </tr>\n",
       "    <tr>\n",
       "      <th>2</th>\n",
       "      <td>30</td>\n",
       "      <td>80</td>\n",
       "    </tr>\n",
       "    <tr>\n",
       "      <th>3</th>\n",
       "      <td>40</td>\n",
       "      <td>90</td>\n",
       "    </tr>\n",
       "    <tr>\n",
       "      <th>4</th>\n",
       "      <td>50</td>\n",
       "      <td>100</td>\n",
       "    </tr>\n",
       "  </tbody>\n",
       "</table>\n",
       "</div>"
      ],
      "text/plain": [
       "    0    1\n",
       "0  10   60\n",
       "1  20   70\n",
       "2  30   80\n",
       "3  40   90\n",
       "4  50  100"
      ]
     },
     "execution_count": 19,
     "metadata": {},
     "output_type": "execute_result"
    }
   ],
   "source": [
    "h_stack"
   ]
  },
  {
   "cell_type": "markdown",
   "metadata": {
    "id": "Ddr9VBRWXAwg"
   },
   "source": [
    "### How to get the day of month, week number, day of year and day of week from a series of date strings?"
   ]
  },
  {
   "cell_type": "code",
   "execution_count": 20,
   "metadata": {
    "colab": {
     "base_uri": "https://localhost:8080/"
    },
    "executionInfo": {
     "elapsed": 5946,
     "status": "ok",
     "timestamp": 1610862979211,
     "user": {
      "displayName": "Santhosh muruganantham",
      "photoUrl": "",
      "userId": "17035721003104891216"
     },
     "user_tz": -330
    },
    "id": "0jDovcB3XAwh",
    "outputId": "ced3d97b-39f2-4e1e-d402-07ccb65bd6b1"
   },
   "outputs": [
    {
     "data": {
      "text/plain": [
       "0    01 Jan 2021 \n",
       "1      10-02-2021\n",
       "2        20210307\n",
       "3      2021/05/06\n",
       "4      2021-04-12\n",
       "5      2021-04-06\n",
       "dtype: object"
      ]
     },
     "execution_count": 20,
     "metadata": {},
     "output_type": "execute_result"
    }
   ],
   "source": [
    "date_series = pd.Series(['01 Jan 2021 ','10-02-2021', '20210307', '2021/05/06', '2021-04-12', '2021-04-06'])\n",
    "date_series"
   ]
  },
  {
   "cell_type": "code",
   "execution_count": 21,
   "metadata": {
    "executionInfo": {
     "elapsed": 5921,
     "status": "ok",
     "timestamp": 1610862979214,
     "user": {
      "displayName": "Santhosh muruganantham",
      "photoUrl": "",
      "userId": "17035721003104891216"
     },
     "user_tz": -330
    },
    "id": "0NlbPiHPXAwj"
   },
   "outputs": [],
   "source": [
    "from dateutil.parser import parse\n",
    "date_series = date_series.map(lambda x:parse(x))"
   ]
  },
  {
   "cell_type": "code",
   "execution_count": 22,
   "metadata": {
    "colab": {
     "base_uri": "https://localhost:8080/"
    },
    "executionInfo": {
     "elapsed": 5895,
     "status": "ok",
     "timestamp": 1610862979217,
     "user": {
      "displayName": "Santhosh muruganantham",
      "photoUrl": "",
      "userId": "17035721003104891216"
     },
     "user_tz": -330
    },
    "id": "iJwPWmPQXAwk",
    "outputId": "b7568796-039c-417e-b085-8a3d25b9d74b"
   },
   "outputs": [
    {
     "name": "stdout",
     "output_type": "stream",
     "text": [
      "Dates are : [1, 2, 7, 6, 12, 6]\n",
      "Days are : [1, 275, 66, 126, 102, 96]\n",
      "Week number : [53, 39, 9, 18, 15, 14]\n",
      "Day of week : ['Friday', 'Saturday', 'Sunday', 'Thursday', 'Monday', 'Tuesday']\n"
     ]
    }
   ],
   "source": [
    "print('Dates are :',date_series.dt.day.tolist())\n",
    "print('Days are :',date_series.dt.dayofyear.tolist())\n",
    "print('Week number :',date_series.dt.weekofyear.tolist())\n",
    "print('Day of week :',date_series.dt.day_name().tolist())"
   ]
  },
  {
   "cell_type": "markdown",
   "metadata": {
    "id": "2sTlvtaDXAwm"
   },
   "source": [
    "### How to compute the euclidean distance between two series?"
   ]
  },
  {
   "cell_type": "code",
   "execution_count": 23,
   "metadata": {
    "executionInfo": {
     "elapsed": 5870,
     "status": "ok",
     "timestamp": 1610862979220,
     "user": {
      "displayName": "Santhosh muruganantham",
      "photoUrl": "",
      "userId": "17035721003104891216"
     },
     "user_tz": -330
    },
    "id": "hehSHF_ZXAwo"
   },
   "outputs": [],
   "source": [
    "x = pd.Series([2,5,8,4,9])\n",
    "y = pd.Series([1,3,8,2,6])"
   ]
  },
  {
   "cell_type": "code",
   "execution_count": 24,
   "metadata": {
    "colab": {
     "base_uri": "https://localhost:8080/"
    },
    "executionInfo": {
     "elapsed": 5847,
     "status": "ok",
     "timestamp": 1610862979224,
     "user": {
      "displayName": "Santhosh muruganantham",
      "photoUrl": "",
      "userId": "17035721003104891216"
     },
     "user_tz": -330
    },
    "id": "OwnUc6NEXAwp",
    "outputId": "987033e3-5ce8-441b-9e9d-d4aa472bc083"
   },
   "outputs": [
    {
     "data": {
      "text/plain": [
       "4.242640687119285"
      ]
     },
     "execution_count": 24,
     "metadata": {},
     "output_type": "execute_result"
    }
   ],
   "source": [
    "e_dist = np.linalg.norm(x-y)\n",
    "e_dist"
   ]
  },
  {
   "cell_type": "markdown",
   "metadata": {
    "id": "otsJLrlEXAwr"
   },
   "source": [
    "### How to use apply function on existing columns?"
   ]
  },
  {
   "cell_type": "code",
   "execution_count": 25,
   "metadata": {
    "colab": {
     "base_uri": "https://localhost:8080/",
     "height": 141
    },
    "executionInfo": {
     "elapsed": 5820,
     "status": "ok",
     "timestamp": 1610862979234,
     "user": {
      "displayName": "Santhosh muruganantham",
      "photoUrl": "",
      "userId": "17035721003104891216"
     },
     "user_tz": -330
    },
    "id": "Dy4WrsvNXAws",
    "outputId": "c9009ff4-c051-4a8c-f023-81e79343637f"
   },
   "outputs": [
    {
     "data": {
      "text/html": [
       "<div>\n",
       "<style scoped>\n",
       "    .dataframe tbody tr th:only-of-type {\n",
       "        vertical-align: middle;\n",
       "    }\n",
       "\n",
       "    .dataframe tbody tr th {\n",
       "        vertical-align: top;\n",
       "    }\n",
       "\n",
       "    .dataframe thead th {\n",
       "        text-align: right;\n",
       "    }\n",
       "</style>\n",
       "<table border=\"1\" class=\"dataframe\">\n",
       "  <thead>\n",
       "    <tr style=\"text-align: right;\">\n",
       "      <th></th>\n",
       "      <th>a</th>\n",
       "      <th>b</th>\n",
       "      <th>c</th>\n",
       "    </tr>\n",
       "  </thead>\n",
       "  <tbody>\n",
       "    <tr>\n",
       "      <th>0</th>\n",
       "      <td>25</td>\n",
       "      <td>4</td>\n",
       "      <td>25</td>\n",
       "    </tr>\n",
       "    <tr>\n",
       "      <th>1</th>\n",
       "      <td>49</td>\n",
       "      <td>100</td>\n",
       "      <td>121</td>\n",
       "    </tr>\n",
       "    <tr>\n",
       "      <th>2</th>\n",
       "      <td>81</td>\n",
       "      <td>36</td>\n",
       "      <td>64</td>\n",
       "    </tr>\n",
       "  </tbody>\n",
       "</table>\n",
       "</div>"
      ],
      "text/plain": [
       "    a    b    c\n",
       "0  25    4   25\n",
       "1  49  100  121\n",
       "2  81   36   64"
      ]
     },
     "execution_count": 25,
     "metadata": {},
     "output_type": "execute_result"
    }
   ],
   "source": [
    "df = pd.DataFrame({\n",
    "    'a':[25,49,81],\n",
    "    'b':[4,100,36],\n",
    "    'c':[25,121,64]\n",
    "})\n",
    "df"
   ]
  },
  {
   "cell_type": "code",
   "execution_count": 26,
   "metadata": {
    "colab": {
     "base_uri": "https://localhost:8080/",
     "height": 141
    },
    "executionInfo": {
     "elapsed": 5787,
     "status": "ok",
     "timestamp": 1610862979237,
     "user": {
      "displayName": "Santhosh muruganantham",
      "photoUrl": "",
      "userId": "17035721003104891216"
     },
     "user_tz": -330
    },
    "id": "gbfdYalKXAwu",
    "outputId": "4c82469f-0d78-483a-b416-62c4b379e59f"
   },
   "outputs": [
    {
     "data": {
      "text/html": [
       "<div>\n",
       "<style scoped>\n",
       "    .dataframe tbody tr th:only-of-type {\n",
       "        vertical-align: middle;\n",
       "    }\n",
       "\n",
       "    .dataframe tbody tr th {\n",
       "        vertical-align: top;\n",
       "    }\n",
       "\n",
       "    .dataframe thead th {\n",
       "        text-align: right;\n",
       "    }\n",
       "</style>\n",
       "<table border=\"1\" class=\"dataframe\">\n",
       "  <thead>\n",
       "    <tr style=\"text-align: right;\">\n",
       "      <th></th>\n",
       "      <th>a</th>\n",
       "      <th>b</th>\n",
       "      <th>c</th>\n",
       "    </tr>\n",
       "  </thead>\n",
       "  <tbody>\n",
       "    <tr>\n",
       "      <th>0</th>\n",
       "      <td>5.0</td>\n",
       "      <td>2.0</td>\n",
       "      <td>5.0</td>\n",
       "    </tr>\n",
       "    <tr>\n",
       "      <th>1</th>\n",
       "      <td>7.0</td>\n",
       "      <td>10.0</td>\n",
       "      <td>11.0</td>\n",
       "    </tr>\n",
       "    <tr>\n",
       "      <th>2</th>\n",
       "      <td>9.0</td>\n",
       "      <td>6.0</td>\n",
       "      <td>8.0</td>\n",
       "    </tr>\n",
       "  </tbody>\n",
       "</table>\n",
       "</div>"
      ],
      "text/plain": [
       "     a     b     c\n",
       "0  5.0   2.0   5.0\n",
       "1  7.0  10.0  11.0\n",
       "2  9.0   6.0   8.0"
      ]
     },
     "execution_count": 26,
     "metadata": {},
     "output_type": "execute_result"
    }
   ],
   "source": [
    "df.apply(np.sqrt)"
   ]
  },
  {
   "cell_type": "code",
   "execution_count": 27,
   "metadata": {
    "colab": {
     "base_uri": "https://localhost:8080/"
    },
    "executionInfo": {
     "elapsed": 5736,
     "status": "ok",
     "timestamp": 1610862979240,
     "user": {
      "displayName": "Santhosh muruganantham",
      "photoUrl": "",
      "userId": "17035721003104891216"
     },
     "user_tz": -330
    },
    "id": "DnMrlXiJXAwv",
    "outputId": "d268211c-c598-4292-b75b-30bd4517b853"
   },
   "outputs": [
    {
     "data": {
      "text/plain": [
       "a    155\n",
       "b    140\n",
       "c    210\n",
       "dtype: int64"
      ]
     },
     "execution_count": 27,
     "metadata": {},
     "output_type": "execute_result"
    }
   ],
   "source": [
    "df.apply(np.sum,axis=0)"
   ]
  },
  {
   "cell_type": "markdown",
   "metadata": {
    "id": "VJ6TB63aXAwx"
   },
   "source": [
    "### Questions 2 :\n",
    "### Pandas Assignment"
   ]
  },
  {
   "cell_type": "markdown",
   "metadata": {
    "id": "tv_qX36nXAwy"
   },
   "source": [
    "### With respect to Earthquakes.csv \"http://www.ldeo.columbia.edu/~rpa/usgs_earthquakes_2014.csv\"\n",
    "\n",
    "\n",
    "### Use Pandas' read_csv function directly on this url to open it as a DataFrame"
   ]
  },
  {
   "cell_type": "code",
   "execution_count": 90,
   "metadata": {
    "executionInfo": {
     "elapsed": 6561,
     "status": "ok",
     "timestamp": 1610862980090,
     "user": {
      "displayName": "Santhosh muruganantham",
      "photoUrl": "",
      "userId": "17035721003104891216"
     },
     "user_tz": -330
    },
    "id": "c1h8Kuf0XAwz"
   },
   "outputs": [],
   "source": [
    "df = pd.read_csv('http://www.ldeo.columbia.edu/~rpa/usgs_earthquakes_2014.csv')"
   ]
  },
  {
   "cell_type": "code",
   "execution_count": 91,
   "metadata": {
    "colab": {
     "base_uri": "https://localhost:8080/",
     "height": 497
    },
    "executionInfo": {
     "elapsed": 6535,
     "status": "ok",
     "timestamp": 1610862980094,
     "user": {
      "displayName": "Santhosh muruganantham",
      "photoUrl": "",
      "userId": "17035721003104891216"
     },
     "user_tz": -330
    },
    "id": "A68xcgXdXAw0",
    "outputId": "d2fffab0-efbb-4983-b7de-73f2de614108"
   },
   "outputs": [
    {
     "data": {
      "text/html": [
       "<div>\n",
       "<style scoped>\n",
       "    .dataframe tbody tr th:only-of-type {\n",
       "        vertical-align: middle;\n",
       "    }\n",
       "\n",
       "    .dataframe tbody tr th {\n",
       "        vertical-align: top;\n",
       "    }\n",
       "\n",
       "    .dataframe thead th {\n",
       "        text-align: right;\n",
       "    }\n",
       "</style>\n",
       "<table border=\"1\" class=\"dataframe\">\n",
       "  <thead>\n",
       "    <tr style=\"text-align: right;\">\n",
       "      <th></th>\n",
       "      <th>time</th>\n",
       "      <th>latitude</th>\n",
       "      <th>longitude</th>\n",
       "      <th>depth</th>\n",
       "      <th>mag</th>\n",
       "      <th>magType</th>\n",
       "      <th>nst</th>\n",
       "      <th>gap</th>\n",
       "      <th>dmin</th>\n",
       "      <th>rms</th>\n",
       "      <th>net</th>\n",
       "      <th>id</th>\n",
       "      <th>updated</th>\n",
       "      <th>place</th>\n",
       "      <th>type</th>\n",
       "    </tr>\n",
       "  </thead>\n",
       "  <tbody>\n",
       "    <tr>\n",
       "      <th>0</th>\n",
       "      <td>2014-01-31 23:53:37.000</td>\n",
       "      <td>60.252000</td>\n",
       "      <td>-152.7081</td>\n",
       "      <td>90.20</td>\n",
       "      <td>1.10</td>\n",
       "      <td>ml</td>\n",
       "      <td>NaN</td>\n",
       "      <td>NaN</td>\n",
       "      <td>NaN</td>\n",
       "      <td>0.2900</td>\n",
       "      <td>ak</td>\n",
       "      <td>ak11155107</td>\n",
       "      <td>2014-02-05T19:34:41.515Z</td>\n",
       "      <td>26km S of Redoubt Volcano, Alaska</td>\n",
       "      <td>earthquake</td>\n",
       "    </tr>\n",
       "    <tr>\n",
       "      <th>1</th>\n",
       "      <td>2014-01-31 23:48:35.452</td>\n",
       "      <td>37.070300</td>\n",
       "      <td>-115.1309</td>\n",
       "      <td>0.00</td>\n",
       "      <td>1.33</td>\n",
       "      <td>ml</td>\n",
       "      <td>4.0</td>\n",
       "      <td>171.43</td>\n",
       "      <td>0.34200</td>\n",
       "      <td>0.0247</td>\n",
       "      <td>nn</td>\n",
       "      <td>nn00436847</td>\n",
       "      <td>2014-02-01T01:35:09.000Z</td>\n",
       "      <td>32km S of Alamo, Nevada</td>\n",
       "      <td>earthquake</td>\n",
       "    </tr>\n",
       "    <tr>\n",
       "      <th>2</th>\n",
       "      <td>2014-01-31 23:47:24.000</td>\n",
       "      <td>64.671700</td>\n",
       "      <td>-149.2528</td>\n",
       "      <td>7.10</td>\n",
       "      <td>1.30</td>\n",
       "      <td>ml</td>\n",
       "      <td>NaN</td>\n",
       "      <td>NaN</td>\n",
       "      <td>NaN</td>\n",
       "      <td>1.0000</td>\n",
       "      <td>ak</td>\n",
       "      <td>ak11151142</td>\n",
       "      <td>2014-02-01T00:03:53.010Z</td>\n",
       "      <td>12km NNW of North Nenana, Alaska</td>\n",
       "      <td>earthquake</td>\n",
       "    </tr>\n",
       "    <tr>\n",
       "      <th>3</th>\n",
       "      <td>2014-01-31 23:30:54.000</td>\n",
       "      <td>63.188700</td>\n",
       "      <td>-148.9575</td>\n",
       "      <td>96.50</td>\n",
       "      <td>0.80</td>\n",
       "      <td>ml</td>\n",
       "      <td>NaN</td>\n",
       "      <td>NaN</td>\n",
       "      <td>NaN</td>\n",
       "      <td>1.0700</td>\n",
       "      <td>ak</td>\n",
       "      <td>ak11151135</td>\n",
       "      <td>2014-01-31T23:41:25.007Z</td>\n",
       "      <td>22km S of Cantwell, Alaska</td>\n",
       "      <td>earthquake</td>\n",
       "    </tr>\n",
       "    <tr>\n",
       "      <th>4</th>\n",
       "      <td>2014-01-31 23:30:52.210</td>\n",
       "      <td>32.616833</td>\n",
       "      <td>-115.6925</td>\n",
       "      <td>10.59</td>\n",
       "      <td>1.34</td>\n",
       "      <td>ml</td>\n",
       "      <td>6.0</td>\n",
       "      <td>285.00</td>\n",
       "      <td>0.04321</td>\n",
       "      <td>0.2000</td>\n",
       "      <td>ci</td>\n",
       "      <td>ci37171541</td>\n",
       "      <td>2014-02-01T00:13:20.107Z</td>\n",
       "      <td>10km WNW of Progreso, Mexico</td>\n",
       "      <td>earthquake</td>\n",
       "    </tr>\n",
       "  </tbody>\n",
       "</table>\n",
       "</div>"
      ],
      "text/plain": [
       "                      time   latitude  longitude  depth   mag magType  nst  \\\n",
       "0  2014-01-31 23:53:37.000  60.252000  -152.7081  90.20  1.10      ml  NaN   \n",
       "1  2014-01-31 23:48:35.452  37.070300  -115.1309   0.00  1.33      ml  4.0   \n",
       "2  2014-01-31 23:47:24.000  64.671700  -149.2528   7.10  1.30      ml  NaN   \n",
       "3  2014-01-31 23:30:54.000  63.188700  -148.9575  96.50  0.80      ml  NaN   \n",
       "4  2014-01-31 23:30:52.210  32.616833  -115.6925  10.59  1.34      ml  6.0   \n",
       "\n",
       "      gap     dmin     rms net          id                   updated  \\\n",
       "0     NaN      NaN  0.2900  ak  ak11155107  2014-02-05T19:34:41.515Z   \n",
       "1  171.43  0.34200  0.0247  nn  nn00436847  2014-02-01T01:35:09.000Z   \n",
       "2     NaN      NaN  1.0000  ak  ak11151142  2014-02-01T00:03:53.010Z   \n",
       "3     NaN      NaN  1.0700  ak  ak11151135  2014-01-31T23:41:25.007Z   \n",
       "4  285.00  0.04321  0.2000  ci  ci37171541  2014-02-01T00:13:20.107Z   \n",
       "\n",
       "                               place        type  \n",
       "0  26km S of Redoubt Volcano, Alaska  earthquake  \n",
       "1            32km S of Alamo, Nevada  earthquake  \n",
       "2   12km NNW of North Nenana, Alaska  earthquake  \n",
       "3         22km S of Cantwell, Alaska  earthquake  \n",
       "4       10km WNW of Progreso, Mexico  earthquake  "
      ]
     },
     "execution_count": 91,
     "metadata": {},
     "output_type": "execute_result"
    }
   ],
   "source": [
    "df.head()"
   ]
  },
  {
   "cell_type": "markdown",
   "metadata": {
    "id": "DVAuBnFQXAw1"
   },
   "source": [
    "### Re-read the data in such a way that all date columns are identified as dates and the earthquake id is used as the index"
   ]
  },
  {
   "cell_type": "code",
   "execution_count": 96,
   "metadata": {},
   "outputs": [
    {
     "data": {
      "text/html": [
       "<div>\n",
       "<style scoped>\n",
       "    .dataframe tbody tr th:only-of-type {\n",
       "        vertical-align: middle;\n",
       "    }\n",
       "\n",
       "    .dataframe tbody tr th {\n",
       "        vertical-align: top;\n",
       "    }\n",
       "\n",
       "    .dataframe thead th {\n",
       "        text-align: right;\n",
       "    }\n",
       "</style>\n",
       "<table border=\"1\" class=\"dataframe\">\n",
       "  <thead>\n",
       "    <tr style=\"text-align: right;\">\n",
       "      <th></th>\n",
       "      <th>time</th>\n",
       "      <th>latitude</th>\n",
       "      <th>longitude</th>\n",
       "      <th>depth</th>\n",
       "      <th>mag</th>\n",
       "      <th>magType</th>\n",
       "      <th>nst</th>\n",
       "      <th>gap</th>\n",
       "      <th>dmin</th>\n",
       "      <th>rms</th>\n",
       "      <th>net</th>\n",
       "      <th>id</th>\n",
       "      <th>updated</th>\n",
       "      <th>place</th>\n",
       "      <th>type</th>\n",
       "    </tr>\n",
       "  </thead>\n",
       "  <tbody>\n",
       "    <tr>\n",
       "      <th>0</th>\n",
       "      <td>2014-01-31</td>\n",
       "      <td>60.252000</td>\n",
       "      <td>-152.7081</td>\n",
       "      <td>90.20</td>\n",
       "      <td>1.10</td>\n",
       "      <td>ml</td>\n",
       "      <td>NaN</td>\n",
       "      <td>NaN</td>\n",
       "      <td>NaN</td>\n",
       "      <td>0.2900</td>\n",
       "      <td>ak</td>\n",
       "      <td>ak11155107</td>\n",
       "      <td>2014-02-05T19:34:41.515Z</td>\n",
       "      <td>26km S of Redoubt Volcano, Alaska</td>\n",
       "      <td>earthquake</td>\n",
       "    </tr>\n",
       "    <tr>\n",
       "      <th>1</th>\n",
       "      <td>2014-01-31</td>\n",
       "      <td>37.070300</td>\n",
       "      <td>-115.1309</td>\n",
       "      <td>0.00</td>\n",
       "      <td>1.33</td>\n",
       "      <td>ml</td>\n",
       "      <td>4.0</td>\n",
       "      <td>171.43</td>\n",
       "      <td>0.34200</td>\n",
       "      <td>0.0247</td>\n",
       "      <td>nn</td>\n",
       "      <td>nn00436847</td>\n",
       "      <td>2014-02-01T01:35:09.000Z</td>\n",
       "      <td>32km S of Alamo, Nevada</td>\n",
       "      <td>earthquake</td>\n",
       "    </tr>\n",
       "    <tr>\n",
       "      <th>2</th>\n",
       "      <td>2014-01-31</td>\n",
       "      <td>64.671700</td>\n",
       "      <td>-149.2528</td>\n",
       "      <td>7.10</td>\n",
       "      <td>1.30</td>\n",
       "      <td>ml</td>\n",
       "      <td>NaN</td>\n",
       "      <td>NaN</td>\n",
       "      <td>NaN</td>\n",
       "      <td>1.0000</td>\n",
       "      <td>ak</td>\n",
       "      <td>ak11151142</td>\n",
       "      <td>2014-02-01T00:03:53.010Z</td>\n",
       "      <td>12km NNW of North Nenana, Alaska</td>\n",
       "      <td>earthquake</td>\n",
       "    </tr>\n",
       "    <tr>\n",
       "      <th>3</th>\n",
       "      <td>2014-01-31</td>\n",
       "      <td>63.188700</td>\n",
       "      <td>-148.9575</td>\n",
       "      <td>96.50</td>\n",
       "      <td>0.80</td>\n",
       "      <td>ml</td>\n",
       "      <td>NaN</td>\n",
       "      <td>NaN</td>\n",
       "      <td>NaN</td>\n",
       "      <td>1.0700</td>\n",
       "      <td>ak</td>\n",
       "      <td>ak11151135</td>\n",
       "      <td>2014-01-31T23:41:25.007Z</td>\n",
       "      <td>22km S of Cantwell, Alaska</td>\n",
       "      <td>earthquake</td>\n",
       "    </tr>\n",
       "    <tr>\n",
       "      <th>4</th>\n",
       "      <td>2014-01-31</td>\n",
       "      <td>32.616833</td>\n",
       "      <td>-115.6925</td>\n",
       "      <td>10.59</td>\n",
       "      <td>1.34</td>\n",
       "      <td>ml</td>\n",
       "      <td>6.0</td>\n",
       "      <td>285.00</td>\n",
       "      <td>0.04321</td>\n",
       "      <td>0.2000</td>\n",
       "      <td>ci</td>\n",
       "      <td>ci37171541</td>\n",
       "      <td>2014-02-01T00:13:20.107Z</td>\n",
       "      <td>10km WNW of Progreso, Mexico</td>\n",
       "      <td>earthquake</td>\n",
       "    </tr>\n",
       "  </tbody>\n",
       "</table>\n",
       "</div>"
      ],
      "text/plain": [
       "         time   latitude  longitude  depth   mag magType  nst     gap  \\\n",
       "0  2014-01-31  60.252000  -152.7081  90.20  1.10      ml  NaN     NaN   \n",
       "1  2014-01-31  37.070300  -115.1309   0.00  1.33      ml  4.0  171.43   \n",
       "2  2014-01-31  64.671700  -149.2528   7.10  1.30      ml  NaN     NaN   \n",
       "3  2014-01-31  63.188700  -148.9575  96.50  0.80      ml  NaN     NaN   \n",
       "4  2014-01-31  32.616833  -115.6925  10.59  1.34      ml  6.0  285.00   \n",
       "\n",
       "      dmin     rms net          id                   updated  \\\n",
       "0      NaN  0.2900  ak  ak11155107  2014-02-05T19:34:41.515Z   \n",
       "1  0.34200  0.0247  nn  nn00436847  2014-02-01T01:35:09.000Z   \n",
       "2      NaN  1.0000  ak  ak11151142  2014-02-01T00:03:53.010Z   \n",
       "3      NaN  1.0700  ak  ak11151135  2014-01-31T23:41:25.007Z   \n",
       "4  0.04321  0.2000  ci  ci37171541  2014-02-01T00:13:20.107Z   \n",
       "\n",
       "                               place        type  \n",
       "0  26km S of Redoubt Volcano, Alaska  earthquake  \n",
       "1            32km S of Alamo, Nevada  earthquake  \n",
       "2   12km NNW of North Nenana, Alaska  earthquake  \n",
       "3         22km S of Cantwell, Alaska  earthquake  \n",
       "4       10km WNW of Progreso, Mexico  earthquake  "
      ]
     },
     "execution_count": 96,
     "metadata": {},
     "output_type": "execute_result"
    }
   ],
   "source": [
    "df['time'] = pd.to_datetime(df['time']).dt.date\n",
    "df.head()"
   ]
  },
  {
   "cell_type": "code",
   "execution_count": 97,
   "metadata": {
    "colab": {
     "base_uri": "https://localhost:8080/",
     "height": 528
    },
    "executionInfo": {
     "elapsed": 6495,
     "status": "ok",
     "timestamp": 1610862980098,
     "user": {
      "displayName": "Santhosh muruganantham",
      "photoUrl": "",
      "userId": "17035721003104891216"
     },
     "user_tz": -330
    },
    "id": "rKqB31AaXAw2",
    "outputId": "6ca326f5-580b-4464-c7a9-2e4eafbf80d0"
   },
   "outputs": [
    {
     "data": {
      "text/html": [
       "<div>\n",
       "<style scoped>\n",
       "    .dataframe tbody tr th:only-of-type {\n",
       "        vertical-align: middle;\n",
       "    }\n",
       "\n",
       "    .dataframe tbody tr th {\n",
       "        vertical-align: top;\n",
       "    }\n",
       "\n",
       "    .dataframe thead th {\n",
       "        text-align: right;\n",
       "    }\n",
       "</style>\n",
       "<table border=\"1\" class=\"dataframe\">\n",
       "  <thead>\n",
       "    <tr style=\"text-align: right;\">\n",
       "      <th></th>\n",
       "      <th>date</th>\n",
       "      <th>latitude</th>\n",
       "      <th>longitude</th>\n",
       "      <th>depth</th>\n",
       "      <th>mag</th>\n",
       "      <th>magType</th>\n",
       "      <th>nst</th>\n",
       "      <th>gap</th>\n",
       "      <th>dmin</th>\n",
       "      <th>rms</th>\n",
       "      <th>net</th>\n",
       "      <th>updated</th>\n",
       "      <th>place</th>\n",
       "      <th>type</th>\n",
       "    </tr>\n",
       "    <tr>\n",
       "      <th>id</th>\n",
       "      <th></th>\n",
       "      <th></th>\n",
       "      <th></th>\n",
       "      <th></th>\n",
       "      <th></th>\n",
       "      <th></th>\n",
       "      <th></th>\n",
       "      <th></th>\n",
       "      <th></th>\n",
       "      <th></th>\n",
       "      <th></th>\n",
       "      <th></th>\n",
       "      <th></th>\n",
       "      <th></th>\n",
       "    </tr>\n",
       "  </thead>\n",
       "  <tbody>\n",
       "    <tr>\n",
       "      <th>ak11155107</th>\n",
       "      <td>2014-01-31</td>\n",
       "      <td>60.252000</td>\n",
       "      <td>-152.7081</td>\n",
       "      <td>90.20</td>\n",
       "      <td>1.10</td>\n",
       "      <td>ml</td>\n",
       "      <td>NaN</td>\n",
       "      <td>NaN</td>\n",
       "      <td>NaN</td>\n",
       "      <td>0.2900</td>\n",
       "      <td>ak</td>\n",
       "      <td>2014-02-05T19:34:41.515Z</td>\n",
       "      <td>26km S of Redoubt Volcano, Alaska</td>\n",
       "      <td>earthquake</td>\n",
       "    </tr>\n",
       "    <tr>\n",
       "      <th>nn00436847</th>\n",
       "      <td>2014-01-31</td>\n",
       "      <td>37.070300</td>\n",
       "      <td>-115.1309</td>\n",
       "      <td>0.00</td>\n",
       "      <td>1.33</td>\n",
       "      <td>ml</td>\n",
       "      <td>4.0</td>\n",
       "      <td>171.43</td>\n",
       "      <td>0.34200</td>\n",
       "      <td>0.0247</td>\n",
       "      <td>nn</td>\n",
       "      <td>2014-02-01T01:35:09.000Z</td>\n",
       "      <td>32km S of Alamo, Nevada</td>\n",
       "      <td>earthquake</td>\n",
       "    </tr>\n",
       "    <tr>\n",
       "      <th>ak11151142</th>\n",
       "      <td>2014-01-31</td>\n",
       "      <td>64.671700</td>\n",
       "      <td>-149.2528</td>\n",
       "      <td>7.10</td>\n",
       "      <td>1.30</td>\n",
       "      <td>ml</td>\n",
       "      <td>NaN</td>\n",
       "      <td>NaN</td>\n",
       "      <td>NaN</td>\n",
       "      <td>1.0000</td>\n",
       "      <td>ak</td>\n",
       "      <td>2014-02-01T00:03:53.010Z</td>\n",
       "      <td>12km NNW of North Nenana, Alaska</td>\n",
       "      <td>earthquake</td>\n",
       "    </tr>\n",
       "    <tr>\n",
       "      <th>ak11151135</th>\n",
       "      <td>2014-01-31</td>\n",
       "      <td>63.188700</td>\n",
       "      <td>-148.9575</td>\n",
       "      <td>96.50</td>\n",
       "      <td>0.80</td>\n",
       "      <td>ml</td>\n",
       "      <td>NaN</td>\n",
       "      <td>NaN</td>\n",
       "      <td>NaN</td>\n",
       "      <td>1.0700</td>\n",
       "      <td>ak</td>\n",
       "      <td>2014-01-31T23:41:25.007Z</td>\n",
       "      <td>22km S of Cantwell, Alaska</td>\n",
       "      <td>earthquake</td>\n",
       "    </tr>\n",
       "    <tr>\n",
       "      <th>ci37171541</th>\n",
       "      <td>2014-01-31</td>\n",
       "      <td>32.616833</td>\n",
       "      <td>-115.6925</td>\n",
       "      <td>10.59</td>\n",
       "      <td>1.34</td>\n",
       "      <td>ml</td>\n",
       "      <td>6.0</td>\n",
       "      <td>285.00</td>\n",
       "      <td>0.04321</td>\n",
       "      <td>0.2000</td>\n",
       "      <td>ci</td>\n",
       "      <td>2014-02-01T00:13:20.107Z</td>\n",
       "      <td>10km WNW of Progreso, Mexico</td>\n",
       "      <td>earthquake</td>\n",
       "    </tr>\n",
       "  </tbody>\n",
       "</table>\n",
       "</div>"
      ],
      "text/plain": [
       "                  date   latitude  longitude  depth   mag magType  nst  \\\n",
       "id                                                                       \n",
       "ak11155107  2014-01-31  60.252000  -152.7081  90.20  1.10      ml  NaN   \n",
       "nn00436847  2014-01-31  37.070300  -115.1309   0.00  1.33      ml  4.0   \n",
       "ak11151142  2014-01-31  64.671700  -149.2528   7.10  1.30      ml  NaN   \n",
       "ak11151135  2014-01-31  63.188700  -148.9575  96.50  0.80      ml  NaN   \n",
       "ci37171541  2014-01-31  32.616833  -115.6925  10.59  1.34      ml  6.0   \n",
       "\n",
       "               gap     dmin     rms net                   updated  \\\n",
       "id                                                                  \n",
       "ak11155107     NaN      NaN  0.2900  ak  2014-02-05T19:34:41.515Z   \n",
       "nn00436847  171.43  0.34200  0.0247  nn  2014-02-01T01:35:09.000Z   \n",
       "ak11151142     NaN      NaN  1.0000  ak  2014-02-01T00:03:53.010Z   \n",
       "ak11151135     NaN      NaN  1.0700  ak  2014-01-31T23:41:25.007Z   \n",
       "ci37171541  285.00  0.04321  0.2000  ci  2014-02-01T00:13:20.107Z   \n",
       "\n",
       "                                        place        type  \n",
       "id                                                         \n",
       "ak11155107  26km S of Redoubt Volcano, Alaska  earthquake  \n",
       "nn00436847            32km S of Alamo, Nevada  earthquake  \n",
       "ak11151142   12km NNW of North Nenana, Alaska  earthquake  \n",
       "ak11151135         22km S of Cantwell, Alaska  earthquake  \n",
       "ci37171541       10km WNW of Progreso, Mexico  earthquake  "
      ]
     },
     "execution_count": 97,
     "metadata": {},
     "output_type": "execute_result"
    }
   ],
   "source": [
    "df = df.rename(columns={'time' : 'date'})\n",
    "df.set_index('id').head()"
   ]
  },
  {
   "cell_type": "markdown",
   "metadata": {
    "id": "Sh7ny4FtXAw4"
   },
   "source": [
    "### Use describe to get the basic statistics of all the columns."
   ]
  },
  {
   "cell_type": "code",
   "execution_count": 98,
   "metadata": {
    "colab": {
     "base_uri": "https://localhost:8080/",
     "height": 315
    },
    "executionInfo": {
     "elapsed": 6458,
     "status": "ok",
     "timestamp": 1610862980102,
     "user": {
      "displayName": "Santhosh muruganantham",
      "photoUrl": "",
      "userId": "17035721003104891216"
     },
     "user_tz": -330
    },
    "id": "4pGC2bxqXAw5",
    "outputId": "c048bd8f-1788-4805-e8d1-0a4e61010343"
   },
   "outputs": [
    {
     "data": {
      "text/html": [
       "<div>\n",
       "<style scoped>\n",
       "    .dataframe tbody tr th:only-of-type {\n",
       "        vertical-align: middle;\n",
       "    }\n",
       "\n",
       "    .dataframe tbody tr th {\n",
       "        vertical-align: top;\n",
       "    }\n",
       "\n",
       "    .dataframe thead th {\n",
       "        text-align: right;\n",
       "    }\n",
       "</style>\n",
       "<table border=\"1\" class=\"dataframe\">\n",
       "  <thead>\n",
       "    <tr style=\"text-align: right;\">\n",
       "      <th></th>\n",
       "      <th>latitude</th>\n",
       "      <th>longitude</th>\n",
       "      <th>depth</th>\n",
       "      <th>mag</th>\n",
       "      <th>nst</th>\n",
       "      <th>gap</th>\n",
       "      <th>dmin</th>\n",
       "      <th>rms</th>\n",
       "    </tr>\n",
       "  </thead>\n",
       "  <tbody>\n",
       "    <tr>\n",
       "      <th>count</th>\n",
       "      <td>120108.000000</td>\n",
       "      <td>120108.000000</td>\n",
       "      <td>120107.000000</td>\n",
       "      <td>120065.000000</td>\n",
       "      <td>59688.000000</td>\n",
       "      <td>94935.000000</td>\n",
       "      <td>85682.000000</td>\n",
       "      <td>119716.000000</td>\n",
       "    </tr>\n",
       "    <tr>\n",
       "      <th>mean</th>\n",
       "      <td>38.399579</td>\n",
       "      <td>-99.961402</td>\n",
       "      <td>28.375029</td>\n",
       "      <td>1.793958</td>\n",
       "      <td>17.878284</td>\n",
       "      <td>124.048978</td>\n",
       "      <td>0.893198</td>\n",
       "      <td>0.358174</td>\n",
       "    </tr>\n",
       "    <tr>\n",
       "      <th>std</th>\n",
       "      <td>21.938258</td>\n",
       "      <td>82.996858</td>\n",
       "      <td>62.215416</td>\n",
       "      <td>1.343466</td>\n",
       "      <td>14.911369</td>\n",
       "      <td>68.518595</td>\n",
       "      <td>2.903966</td>\n",
       "      <td>0.364046</td>\n",
       "    </tr>\n",
       "    <tr>\n",
       "      <th>min</th>\n",
       "      <td>-73.462000</td>\n",
       "      <td>-179.998900</td>\n",
       "      <td>-9.900000</td>\n",
       "      <td>-0.970000</td>\n",
       "      <td>0.000000</td>\n",
       "      <td>9.000000</td>\n",
       "      <td>0.000000</td>\n",
       "      <td>0.000000</td>\n",
       "    </tr>\n",
       "    <tr>\n",
       "      <th>25%</th>\n",
       "      <td>34.228917</td>\n",
       "      <td>-147.742025</td>\n",
       "      <td>4.100000</td>\n",
       "      <td>0.820000</td>\n",
       "      <td>8.000000</td>\n",
       "      <td>74.000000</td>\n",
       "      <td>0.020760</td>\n",
       "      <td>0.070000</td>\n",
       "    </tr>\n",
       "    <tr>\n",
       "      <th>50%</th>\n",
       "      <td>38.805300</td>\n",
       "      <td>-120.832000</td>\n",
       "      <td>9.200000</td>\n",
       "      <td>1.400000</td>\n",
       "      <td>14.000000</td>\n",
       "      <td>107.000000</td>\n",
       "      <td>0.073670</td>\n",
       "      <td>0.200000</td>\n",
       "    </tr>\n",
       "    <tr>\n",
       "      <th>75%</th>\n",
       "      <td>53.889500</td>\n",
       "      <td>-116.068100</td>\n",
       "      <td>22.880000</td>\n",
       "      <td>2.400000</td>\n",
       "      <td>22.000000</td>\n",
       "      <td>155.000000</td>\n",
       "      <td>0.447000</td>\n",
       "      <td>0.590000</td>\n",
       "    </tr>\n",
       "    <tr>\n",
       "      <th>max</th>\n",
       "      <td>86.651400</td>\n",
       "      <td>179.998000</td>\n",
       "      <td>697.360000</td>\n",
       "      <td>8.200000</td>\n",
       "      <td>365.000000</td>\n",
       "      <td>356.400000</td>\n",
       "      <td>64.498000</td>\n",
       "      <td>8.460000</td>\n",
       "    </tr>\n",
       "  </tbody>\n",
       "</table>\n",
       "</div>"
      ],
      "text/plain": [
       "            latitude      longitude          depth            mag  \\\n",
       "count  120108.000000  120108.000000  120107.000000  120065.000000   \n",
       "mean       38.399579     -99.961402      28.375029       1.793958   \n",
       "std        21.938258      82.996858      62.215416       1.343466   \n",
       "min       -73.462000    -179.998900      -9.900000      -0.970000   \n",
       "25%        34.228917    -147.742025       4.100000       0.820000   \n",
       "50%        38.805300    -120.832000       9.200000       1.400000   \n",
       "75%        53.889500    -116.068100      22.880000       2.400000   \n",
       "max        86.651400     179.998000     697.360000       8.200000   \n",
       "\n",
       "                nst           gap          dmin            rms  \n",
       "count  59688.000000  94935.000000  85682.000000  119716.000000  \n",
       "mean      17.878284    124.048978      0.893198       0.358174  \n",
       "std       14.911369     68.518595      2.903966       0.364046  \n",
       "min        0.000000      9.000000      0.000000       0.000000  \n",
       "25%        8.000000     74.000000      0.020760       0.070000  \n",
       "50%       14.000000    107.000000      0.073670       0.200000  \n",
       "75%       22.000000    155.000000      0.447000       0.590000  \n",
       "max      365.000000    356.400000     64.498000       8.460000  "
      ]
     },
     "execution_count": 98,
     "metadata": {},
     "output_type": "execute_result"
    }
   ],
   "source": [
    "df.describe()"
   ]
  },
  {
   "cell_type": "markdown",
   "metadata": {
    "id": "IaQgmm5oXAw6"
   },
   "source": [
    "### Use sort_values to get the top 20 earthquakes by magnitude."
   ]
  },
  {
   "cell_type": "code",
   "execution_count": 99,
   "metadata": {
    "colab": {
     "base_uri": "https://localhost:8080/",
     "height": 1000
    },
    "executionInfo": {
     "elapsed": 6424,
     "status": "ok",
     "timestamp": 1610862980105,
     "user": {
      "displayName": "Santhosh muruganantham",
      "photoUrl": "",
      "userId": "17035721003104891216"
     },
     "user_tz": -330
    },
    "id": "YILrcKBjXAw7",
    "outputId": "a40077cc-c4b1-414a-9328-5171def0ffb8"
   },
   "outputs": [
    {
     "data": {
      "text/html": [
       "<div>\n",
       "<style scoped>\n",
       "    .dataframe tbody tr th:only-of-type {\n",
       "        vertical-align: middle;\n",
       "    }\n",
       "\n",
       "    .dataframe tbody tr th {\n",
       "        vertical-align: top;\n",
       "    }\n",
       "\n",
       "    .dataframe thead th {\n",
       "        text-align: right;\n",
       "    }\n",
       "</style>\n",
       "<table border=\"1\" class=\"dataframe\">\n",
       "  <thead>\n",
       "    <tr style=\"text-align: right;\">\n",
       "      <th></th>\n",
       "      <th>date</th>\n",
       "      <th>latitude</th>\n",
       "      <th>longitude</th>\n",
       "      <th>depth</th>\n",
       "      <th>mag</th>\n",
       "      <th>magType</th>\n",
       "      <th>nst</th>\n",
       "      <th>gap</th>\n",
       "      <th>dmin</th>\n",
       "      <th>rms</th>\n",
       "      <th>net</th>\n",
       "      <th>id</th>\n",
       "      <th>updated</th>\n",
       "      <th>place</th>\n",
       "      <th>type</th>\n",
       "    </tr>\n",
       "  </thead>\n",
       "  <tbody>\n",
       "    <tr>\n",
       "      <th>116943</th>\n",
       "      <td>2014-12-11</td>\n",
       "      <td>43.7200</td>\n",
       "      <td>-121.315333</td>\n",
       "      <td>1.58</td>\n",
       "      <td>-0.97</td>\n",
       "      <td>md</td>\n",
       "      <td>3.0</td>\n",
       "      <td>190.0</td>\n",
       "      <td>0.006311</td>\n",
       "      <td>0.00</td>\n",
       "      <td>uw</td>\n",
       "      <td>uw60944536</td>\n",
       "      <td>2014-12-11T19:49:58.810Z</td>\n",
       "      <td>16km SE of Three Rivers, Oregon</td>\n",
       "      <td>earthquake</td>\n",
       "    </tr>\n",
       "    <tr>\n",
       "      <th>97366</th>\n",
       "      <td>2014-10-09</td>\n",
       "      <td>43.7225</td>\n",
       "      <td>-121.315700</td>\n",
       "      <td>2.10</td>\n",
       "      <td>-0.90</td>\n",
       "      <td>Md</td>\n",
       "      <td>NaN</td>\n",
       "      <td>162.0</td>\n",
       "      <td>0.008983</td>\n",
       "      <td>0.03</td>\n",
       "      <td>uw</td>\n",
       "      <td>uw60889832</td>\n",
       "      <td>2014-10-10T18:15:27.045Z</td>\n",
       "      <td>16km SE of Three Rivers, Oregon</td>\n",
       "      <td>earthquake</td>\n",
       "    </tr>\n",
       "    <tr>\n",
       "      <th>98186</th>\n",
       "      <td>2014-10-07</td>\n",
       "      <td>43.7227</td>\n",
       "      <td>-121.313700</td>\n",
       "      <td>2.40</td>\n",
       "      <td>-0.90</td>\n",
       "      <td>Md</td>\n",
       "      <td>NaN</td>\n",
       "      <td>158.4</td>\n",
       "      <td>0.008983</td>\n",
       "      <td>0.03</td>\n",
       "      <td>uw</td>\n",
       "      <td>uw60886762</td>\n",
       "      <td>2014-10-07T21:35:17.569Z</td>\n",
       "      <td>16km SE of Three Rivers, Oregon</td>\n",
       "      <td>earthquake</td>\n",
       "    </tr>\n",
       "    <tr>\n",
       "      <th>96135</th>\n",
       "      <td>2014-10-13</td>\n",
       "      <td>43.7238</td>\n",
       "      <td>-121.316000</td>\n",
       "      <td>2.00</td>\n",
       "      <td>-0.90</td>\n",
       "      <td>Md</td>\n",
       "      <td>NaN</td>\n",
       "      <td>176.4</td>\n",
       "      <td>0.008983</td>\n",
       "      <td>0.05</td>\n",
       "      <td>uw</td>\n",
       "      <td>uw60891597</td>\n",
       "      <td>2014-10-13T16:04:47.814Z</td>\n",
       "      <td>16km SE of Three Rivers, Oregon</td>\n",
       "      <td>earthquake</td>\n",
       "    </tr>\n",
       "    <tr>\n",
       "      <th>92661</th>\n",
       "      <td>2014-10-23</td>\n",
       "      <td>43.7225</td>\n",
       "      <td>-121.313000</td>\n",
       "      <td>1.80</td>\n",
       "      <td>-0.90</td>\n",
       "      <td>Md</td>\n",
       "      <td>NaN</td>\n",
       "      <td>154.8</td>\n",
       "      <td>0.008983</td>\n",
       "      <td>0.05</td>\n",
       "      <td>uw</td>\n",
       "      <td>uw60908911</td>\n",
       "      <td>2014-10-24T18:33:39.585Z</td>\n",
       "      <td>16km SE of Three Rivers, Oregon</td>\n",
       "      <td>earthquake</td>\n",
       "    </tr>\n",
       "    <tr>\n",
       "      <th>96182</th>\n",
       "      <td>2014-10-13</td>\n",
       "      <td>43.7220</td>\n",
       "      <td>-121.313500</td>\n",
       "      <td>2.30</td>\n",
       "      <td>-0.90</td>\n",
       "      <td>Md</td>\n",
       "      <td>NaN</td>\n",
       "      <td>154.8</td>\n",
       "      <td>0.008983</td>\n",
       "      <td>0.03</td>\n",
       "      <td>uw</td>\n",
       "      <td>uw60891587</td>\n",
       "      <td>2014-10-13T16:07:58.098Z</td>\n",
       "      <td>16km SE of Three Rivers, Oregon</td>\n",
       "      <td>earthquake</td>\n",
       "    </tr>\n",
       "    <tr>\n",
       "      <th>96231</th>\n",
       "      <td>2014-10-13</td>\n",
       "      <td>43.7235</td>\n",
       "      <td>-121.313000</td>\n",
       "      <td>2.10</td>\n",
       "      <td>-0.90</td>\n",
       "      <td>Md</td>\n",
       "      <td>NaN</td>\n",
       "      <td>165.6</td>\n",
       "      <td>0.008983</td>\n",
       "      <td>0.04</td>\n",
       "      <td>uw</td>\n",
       "      <td>uw60891577</td>\n",
       "      <td>2014-10-13T16:13:13.674Z</td>\n",
       "      <td>16km SE of Three Rivers, Oregon</td>\n",
       "      <td>earthquake</td>\n",
       "    </tr>\n",
       "    <tr>\n",
       "      <th>96408</th>\n",
       "      <td>2014-10-12</td>\n",
       "      <td>43.7250</td>\n",
       "      <td>-121.314700</td>\n",
       "      <td>1.80</td>\n",
       "      <td>-0.90</td>\n",
       "      <td>Md</td>\n",
       "      <td>NaN</td>\n",
       "      <td>180.0</td>\n",
       "      <td>0.008983</td>\n",
       "      <td>0.01</td>\n",
       "      <td>uw</td>\n",
       "      <td>uw60891307</td>\n",
       "      <td>2014-10-12T21:57:42.270Z</td>\n",
       "      <td>16km SE of Three Rivers, Oregon</td>\n",
       "      <td>earthquake</td>\n",
       "    </tr>\n",
       "    <tr>\n",
       "      <th>99940</th>\n",
       "      <td>2014-10-02</td>\n",
       "      <td>43.7183</td>\n",
       "      <td>-121.314000</td>\n",
       "      <td>2.10</td>\n",
       "      <td>-0.90</td>\n",
       "      <td>Md</td>\n",
       "      <td>NaN</td>\n",
       "      <td>122.4</td>\n",
       "      <td>0.008983</td>\n",
       "      <td>0.05</td>\n",
       "      <td>uw</td>\n",
       "      <td>uw60882457</td>\n",
       "      <td>2014-10-02T05:59:30.296Z</td>\n",
       "      <td>16km SE of Three Rivers, Oregon</td>\n",
       "      <td>earthquake</td>\n",
       "    </tr>\n",
       "    <tr>\n",
       "      <th>99926</th>\n",
       "      <td>2014-10-02</td>\n",
       "      <td>43.7163</td>\n",
       "      <td>-121.316700</td>\n",
       "      <td>1.00</td>\n",
       "      <td>-0.90</td>\n",
       "      <td>Md</td>\n",
       "      <td>NaN</td>\n",
       "      <td>140.4</td>\n",
       "      <td>0.008983</td>\n",
       "      <td>0.07</td>\n",
       "      <td>uw</td>\n",
       "      <td>uw60882547</td>\n",
       "      <td>2014-10-02T06:04:05.805Z</td>\n",
       "      <td>15km ENE of La Pine, Oregon</td>\n",
       "      <td>earthquake</td>\n",
       "    </tr>\n",
       "    <tr>\n",
       "      <th>79627</th>\n",
       "      <td>2014-09-28</td>\n",
       "      <td>43.7207</td>\n",
       "      <td>-121.315000</td>\n",
       "      <td>1.90</td>\n",
       "      <td>-0.90</td>\n",
       "      <td>Md</td>\n",
       "      <td>NaN</td>\n",
       "      <td>201.6</td>\n",
       "      <td>0.008983</td>\n",
       "      <td>0.01</td>\n",
       "      <td>uw</td>\n",
       "      <td>uw60888161</td>\n",
       "      <td>2014-09-30T04:12:47.533Z</td>\n",
       "      <td>16km SE of Three Rivers, Oregon</td>\n",
       "      <td>earthquake</td>\n",
       "    </tr>\n",
       "    <tr>\n",
       "      <th>100287</th>\n",
       "      <td>2014-10-01</td>\n",
       "      <td>43.7237</td>\n",
       "      <td>-121.313000</td>\n",
       "      <td>2.00</td>\n",
       "      <td>-0.90</td>\n",
       "      <td>Md</td>\n",
       "      <td>NaN</td>\n",
       "      <td>165.6</td>\n",
       "      <td>0.008983</td>\n",
       "      <td>0.05</td>\n",
       "      <td>uw</td>\n",
       "      <td>uw60881547</td>\n",
       "      <td>2014-10-01T17:27:41.033Z</td>\n",
       "      <td>16km SE of Three Rivers, Oregon</td>\n",
       "      <td>earthquake</td>\n",
       "    </tr>\n",
       "    <tr>\n",
       "      <th>99399</th>\n",
       "      <td>2014-10-03</td>\n",
       "      <td>43.7245</td>\n",
       "      <td>-121.313500</td>\n",
       "      <td>2.10</td>\n",
       "      <td>-0.90</td>\n",
       "      <td>Md</td>\n",
       "      <td>NaN</td>\n",
       "      <td>172.8</td>\n",
       "      <td>0.008983</td>\n",
       "      <td>0.05</td>\n",
       "      <td>uw</td>\n",
       "      <td>uw60090108</td>\n",
       "      <td>2014-10-03T17:04:23.042Z</td>\n",
       "      <td>16km SE of Three Rivers, Oregon</td>\n",
       "      <td>earthquake</td>\n",
       "    </tr>\n",
       "    <tr>\n",
       "      <th>99555</th>\n",
       "      <td>2014-10-03</td>\n",
       "      <td>43.7205</td>\n",
       "      <td>-121.312800</td>\n",
       "      <td>2.00</td>\n",
       "      <td>-0.90</td>\n",
       "      <td>Md</td>\n",
       "      <td>NaN</td>\n",
       "      <td>97.2</td>\n",
       "      <td>0.008983</td>\n",
       "      <td>0.04</td>\n",
       "      <td>uw</td>\n",
       "      <td>uw60883597</td>\n",
       "      <td>2014-10-03T17:25:11.261Z</td>\n",
       "      <td>16km SE of Three Rivers, Oregon</td>\n",
       "      <td>earthquake</td>\n",
       "    </tr>\n",
       "    <tr>\n",
       "      <th>79362</th>\n",
       "      <td>2014-09-29</td>\n",
       "      <td>43.7310</td>\n",
       "      <td>-121.311000</td>\n",
       "      <td>1.80</td>\n",
       "      <td>-0.90</td>\n",
       "      <td>Md</td>\n",
       "      <td>NaN</td>\n",
       "      <td>212.4</td>\n",
       "      <td>0.008983</td>\n",
       "      <td>0.06</td>\n",
       "      <td>uw</td>\n",
       "      <td>uw60888426</td>\n",
       "      <td>2014-09-30T04:19:25.299Z</td>\n",
       "      <td>16km SE of Three Rivers, Oregon</td>\n",
       "      <td>earthquake</td>\n",
       "    </tr>\n",
       "    <tr>\n",
       "      <th>105274</th>\n",
       "      <td>2014-11-17</td>\n",
       "      <td>43.7222</td>\n",
       "      <td>-121.312300</td>\n",
       "      <td>2.00</td>\n",
       "      <td>-0.90</td>\n",
       "      <td>Md</td>\n",
       "      <td>NaN</td>\n",
       "      <td>97.2</td>\n",
       "      <td>0.008983</td>\n",
       "      <td>0.05</td>\n",
       "      <td>uw</td>\n",
       "      <td>uw60918242</td>\n",
       "      <td>2014-11-17T18:28:52.374Z</td>\n",
       "      <td>16km SE of Three Rivers, Oregon</td>\n",
       "      <td>earthquake</td>\n",
       "    </tr>\n",
       "    <tr>\n",
       "      <th>105320</th>\n",
       "      <td>2014-11-17</td>\n",
       "      <td>43.7218</td>\n",
       "      <td>-121.310200</td>\n",
       "      <td>1.80</td>\n",
       "      <td>-0.90</td>\n",
       "      <td>Md</td>\n",
       "      <td>NaN</td>\n",
       "      <td>93.6</td>\n",
       "      <td>0.000000</td>\n",
       "      <td>0.05</td>\n",
       "      <td>uw</td>\n",
       "      <td>uw60098808</td>\n",
       "      <td>2014-11-17T19:27:10.694Z</td>\n",
       "      <td>16km SE of Three Rivers, Oregon</td>\n",
       "      <td>earthquake</td>\n",
       "    </tr>\n",
       "    <tr>\n",
       "      <th>105361</th>\n",
       "      <td>2014-11-17</td>\n",
       "      <td>43.7227</td>\n",
       "      <td>-121.312000</td>\n",
       "      <td>2.00</td>\n",
       "      <td>-0.90</td>\n",
       "      <td>Md</td>\n",
       "      <td>NaN</td>\n",
       "      <td>100.8</td>\n",
       "      <td>0.008983</td>\n",
       "      <td>0.04</td>\n",
       "      <td>uw</td>\n",
       "      <td>uw60918157</td>\n",
       "      <td>2014-11-17T19:25:30.530Z</td>\n",
       "      <td>16km SE of Three Rivers, Oregon</td>\n",
       "      <td>earthquake</td>\n",
       "    </tr>\n",
       "    <tr>\n",
       "      <th>99864</th>\n",
       "      <td>2014-10-02</td>\n",
       "      <td>43.7228</td>\n",
       "      <td>-121.314300</td>\n",
       "      <td>2.40</td>\n",
       "      <td>-0.90</td>\n",
       "      <td>Md</td>\n",
       "      <td>NaN</td>\n",
       "      <td>162.0</td>\n",
       "      <td>0.008983</td>\n",
       "      <td>0.04</td>\n",
       "      <td>uw</td>\n",
       "      <td>uw60882632</td>\n",
       "      <td>2014-10-02T18:26:29.281Z</td>\n",
       "      <td>16km SE of Three Rivers, Oregon</td>\n",
       "      <td>earthquake</td>\n",
       "    </tr>\n",
       "    <tr>\n",
       "      <th>99862</th>\n",
       "      <td>2014-10-02</td>\n",
       "      <td>43.7205</td>\n",
       "      <td>-121.314300</td>\n",
       "      <td>2.40</td>\n",
       "      <td>-0.90</td>\n",
       "      <td>Md</td>\n",
       "      <td>NaN</td>\n",
       "      <td>97.2</td>\n",
       "      <td>0.008983</td>\n",
       "      <td>0.03</td>\n",
       "      <td>uw</td>\n",
       "      <td>uw60882637</td>\n",
       "      <td>2014-10-03T21:29:46.217Z</td>\n",
       "      <td>16km SE of Three Rivers, Oregon</td>\n",
       "      <td>earthquake</td>\n",
       "    </tr>\n",
       "  </tbody>\n",
       "</table>\n",
       "</div>"
      ],
      "text/plain": [
       "              date  latitude   longitude  depth   mag magType  nst    gap  \\\n",
       "116943  2014-12-11   43.7200 -121.315333   1.58 -0.97      md  3.0  190.0   \n",
       "97366   2014-10-09   43.7225 -121.315700   2.10 -0.90      Md  NaN  162.0   \n",
       "98186   2014-10-07   43.7227 -121.313700   2.40 -0.90      Md  NaN  158.4   \n",
       "96135   2014-10-13   43.7238 -121.316000   2.00 -0.90      Md  NaN  176.4   \n",
       "92661   2014-10-23   43.7225 -121.313000   1.80 -0.90      Md  NaN  154.8   \n",
       "96182   2014-10-13   43.7220 -121.313500   2.30 -0.90      Md  NaN  154.8   \n",
       "96231   2014-10-13   43.7235 -121.313000   2.10 -0.90      Md  NaN  165.6   \n",
       "96408   2014-10-12   43.7250 -121.314700   1.80 -0.90      Md  NaN  180.0   \n",
       "99940   2014-10-02   43.7183 -121.314000   2.10 -0.90      Md  NaN  122.4   \n",
       "99926   2014-10-02   43.7163 -121.316700   1.00 -0.90      Md  NaN  140.4   \n",
       "79627   2014-09-28   43.7207 -121.315000   1.90 -0.90      Md  NaN  201.6   \n",
       "100287  2014-10-01   43.7237 -121.313000   2.00 -0.90      Md  NaN  165.6   \n",
       "99399   2014-10-03   43.7245 -121.313500   2.10 -0.90      Md  NaN  172.8   \n",
       "99555   2014-10-03   43.7205 -121.312800   2.00 -0.90      Md  NaN   97.2   \n",
       "79362   2014-09-29   43.7310 -121.311000   1.80 -0.90      Md  NaN  212.4   \n",
       "105274  2014-11-17   43.7222 -121.312300   2.00 -0.90      Md  NaN   97.2   \n",
       "105320  2014-11-17   43.7218 -121.310200   1.80 -0.90      Md  NaN   93.6   \n",
       "105361  2014-11-17   43.7227 -121.312000   2.00 -0.90      Md  NaN  100.8   \n",
       "99864   2014-10-02   43.7228 -121.314300   2.40 -0.90      Md  NaN  162.0   \n",
       "99862   2014-10-02   43.7205 -121.314300   2.40 -0.90      Md  NaN   97.2   \n",
       "\n",
       "            dmin   rms net          id                   updated  \\\n",
       "116943  0.006311  0.00  uw  uw60944536  2014-12-11T19:49:58.810Z   \n",
       "97366   0.008983  0.03  uw  uw60889832  2014-10-10T18:15:27.045Z   \n",
       "98186   0.008983  0.03  uw  uw60886762  2014-10-07T21:35:17.569Z   \n",
       "96135   0.008983  0.05  uw  uw60891597  2014-10-13T16:04:47.814Z   \n",
       "92661   0.008983  0.05  uw  uw60908911  2014-10-24T18:33:39.585Z   \n",
       "96182   0.008983  0.03  uw  uw60891587  2014-10-13T16:07:58.098Z   \n",
       "96231   0.008983  0.04  uw  uw60891577  2014-10-13T16:13:13.674Z   \n",
       "96408   0.008983  0.01  uw  uw60891307  2014-10-12T21:57:42.270Z   \n",
       "99940   0.008983  0.05  uw  uw60882457  2014-10-02T05:59:30.296Z   \n",
       "99926   0.008983  0.07  uw  uw60882547  2014-10-02T06:04:05.805Z   \n",
       "79627   0.008983  0.01  uw  uw60888161  2014-09-30T04:12:47.533Z   \n",
       "100287  0.008983  0.05  uw  uw60881547  2014-10-01T17:27:41.033Z   \n",
       "99399   0.008983  0.05  uw  uw60090108  2014-10-03T17:04:23.042Z   \n",
       "99555   0.008983  0.04  uw  uw60883597  2014-10-03T17:25:11.261Z   \n",
       "79362   0.008983  0.06  uw  uw60888426  2014-09-30T04:19:25.299Z   \n",
       "105274  0.008983  0.05  uw  uw60918242  2014-11-17T18:28:52.374Z   \n",
       "105320  0.000000  0.05  uw  uw60098808  2014-11-17T19:27:10.694Z   \n",
       "105361  0.008983  0.04  uw  uw60918157  2014-11-17T19:25:30.530Z   \n",
       "99864   0.008983  0.04  uw  uw60882632  2014-10-02T18:26:29.281Z   \n",
       "99862   0.008983  0.03  uw  uw60882637  2014-10-03T21:29:46.217Z   \n",
       "\n",
       "                                  place        type  \n",
       "116943  16km SE of Three Rivers, Oregon  earthquake  \n",
       "97366   16km SE of Three Rivers, Oregon  earthquake  \n",
       "98186   16km SE of Three Rivers, Oregon  earthquake  \n",
       "96135   16km SE of Three Rivers, Oregon  earthquake  \n",
       "92661   16km SE of Three Rivers, Oregon  earthquake  \n",
       "96182   16km SE of Three Rivers, Oregon  earthquake  \n",
       "96231   16km SE of Three Rivers, Oregon  earthquake  \n",
       "96408   16km SE of Three Rivers, Oregon  earthquake  \n",
       "99940   16km SE of Three Rivers, Oregon  earthquake  \n",
       "99926       15km ENE of La Pine, Oregon  earthquake  \n",
       "79627   16km SE of Three Rivers, Oregon  earthquake  \n",
       "100287  16km SE of Three Rivers, Oregon  earthquake  \n",
       "99399   16km SE of Three Rivers, Oregon  earthquake  \n",
       "99555   16km SE of Three Rivers, Oregon  earthquake  \n",
       "79362   16km SE of Three Rivers, Oregon  earthquake  \n",
       "105274  16km SE of Three Rivers, Oregon  earthquake  \n",
       "105320  16km SE of Three Rivers, Oregon  earthquake  \n",
       "105361  16km SE of Three Rivers, Oregon  earthquake  \n",
       "99864   16km SE of Three Rivers, Oregon  earthquake  \n",
       "99862   16km SE of Three Rivers, Oregon  earthquake  "
      ]
     },
     "execution_count": 99,
     "metadata": {},
     "output_type": "execute_result"
    }
   ],
   "source": [
    "df.sort_values(by='mag').head(20)"
   ]
  },
  {
   "cell_type": "markdown",
   "metadata": {
    "id": "OWz6gppeXAw9"
   },
   "source": [
    "### Find the 10 states / countries with the highest number of earthquakes."
   ]
  },
  {
   "cell_type": "code",
   "execution_count": 100,
   "metadata": {
    "executionInfo": {
     "elapsed": 8830,
     "status": "ok",
     "timestamp": 1610862982541,
     "user": {
      "displayName": "Santhosh muruganantham",
      "photoUrl": "",
      "userId": "17035721003104891216"
     },
     "user_tz": -330
    },
    "id": "ET9eInjrXAw-"
   },
   "outputs": [],
   "source": [
    "df['location'],df['state'] = df['place'].str.split(',',1).str"
   ]
  },
  {
   "cell_type": "code",
   "execution_count": 101,
   "metadata": {
    "colab": {
     "base_uri": "https://localhost:8080/",
     "height": 497
    },
    "executionInfo": {
     "elapsed": 8806,
     "status": "ok",
     "timestamp": 1610862982546,
     "user": {
      "displayName": "Santhosh muruganantham",
      "photoUrl": "",
      "userId": "17035721003104891216"
     },
     "user_tz": -330
    },
    "id": "kivoM5dgXAw_",
    "outputId": "38c99752-42de-4d1c-cd1e-fa0bc6f9d9a1"
   },
   "outputs": [
    {
     "data": {
      "text/html": [
       "<div>\n",
       "<style scoped>\n",
       "    .dataframe tbody tr th:only-of-type {\n",
       "        vertical-align: middle;\n",
       "    }\n",
       "\n",
       "    .dataframe tbody tr th {\n",
       "        vertical-align: top;\n",
       "    }\n",
       "\n",
       "    .dataframe thead th {\n",
       "        text-align: right;\n",
       "    }\n",
       "</style>\n",
       "<table border=\"1\" class=\"dataframe\">\n",
       "  <thead>\n",
       "    <tr style=\"text-align: right;\">\n",
       "      <th></th>\n",
       "      <th>date</th>\n",
       "      <th>latitude</th>\n",
       "      <th>longitude</th>\n",
       "      <th>depth</th>\n",
       "      <th>mag</th>\n",
       "      <th>magType</th>\n",
       "      <th>nst</th>\n",
       "      <th>gap</th>\n",
       "      <th>dmin</th>\n",
       "      <th>rms</th>\n",
       "      <th>net</th>\n",
       "      <th>id</th>\n",
       "      <th>updated</th>\n",
       "      <th>place</th>\n",
       "      <th>type</th>\n",
       "      <th>location</th>\n",
       "      <th>state</th>\n",
       "    </tr>\n",
       "  </thead>\n",
       "  <tbody>\n",
       "    <tr>\n",
       "      <th>0</th>\n",
       "      <td>2014-01-31</td>\n",
       "      <td>60.252000</td>\n",
       "      <td>-152.7081</td>\n",
       "      <td>90.20</td>\n",
       "      <td>1.10</td>\n",
       "      <td>ml</td>\n",
       "      <td>NaN</td>\n",
       "      <td>NaN</td>\n",
       "      <td>NaN</td>\n",
       "      <td>0.2900</td>\n",
       "      <td>ak</td>\n",
       "      <td>ak11155107</td>\n",
       "      <td>2014-02-05T19:34:41.515Z</td>\n",
       "      <td>26km S of Redoubt Volcano, Alaska</td>\n",
       "      <td>earthquake</td>\n",
       "      <td>26km S of Redoubt Volcano</td>\n",
       "      <td>Alaska</td>\n",
       "    </tr>\n",
       "    <tr>\n",
       "      <th>1</th>\n",
       "      <td>2014-01-31</td>\n",
       "      <td>37.070300</td>\n",
       "      <td>-115.1309</td>\n",
       "      <td>0.00</td>\n",
       "      <td>1.33</td>\n",
       "      <td>ml</td>\n",
       "      <td>4.0</td>\n",
       "      <td>171.43</td>\n",
       "      <td>0.34200</td>\n",
       "      <td>0.0247</td>\n",
       "      <td>nn</td>\n",
       "      <td>nn00436847</td>\n",
       "      <td>2014-02-01T01:35:09.000Z</td>\n",
       "      <td>32km S of Alamo, Nevada</td>\n",
       "      <td>earthquake</td>\n",
       "      <td>32km S of Alamo</td>\n",
       "      <td>Nevada</td>\n",
       "    </tr>\n",
       "    <tr>\n",
       "      <th>2</th>\n",
       "      <td>2014-01-31</td>\n",
       "      <td>64.671700</td>\n",
       "      <td>-149.2528</td>\n",
       "      <td>7.10</td>\n",
       "      <td>1.30</td>\n",
       "      <td>ml</td>\n",
       "      <td>NaN</td>\n",
       "      <td>NaN</td>\n",
       "      <td>NaN</td>\n",
       "      <td>1.0000</td>\n",
       "      <td>ak</td>\n",
       "      <td>ak11151142</td>\n",
       "      <td>2014-02-01T00:03:53.010Z</td>\n",
       "      <td>12km NNW of North Nenana, Alaska</td>\n",
       "      <td>earthquake</td>\n",
       "      <td>12km NNW of North Nenana</td>\n",
       "      <td>Alaska</td>\n",
       "    </tr>\n",
       "    <tr>\n",
       "      <th>3</th>\n",
       "      <td>2014-01-31</td>\n",
       "      <td>63.188700</td>\n",
       "      <td>-148.9575</td>\n",
       "      <td>96.50</td>\n",
       "      <td>0.80</td>\n",
       "      <td>ml</td>\n",
       "      <td>NaN</td>\n",
       "      <td>NaN</td>\n",
       "      <td>NaN</td>\n",
       "      <td>1.0700</td>\n",
       "      <td>ak</td>\n",
       "      <td>ak11151135</td>\n",
       "      <td>2014-01-31T23:41:25.007Z</td>\n",
       "      <td>22km S of Cantwell, Alaska</td>\n",
       "      <td>earthquake</td>\n",
       "      <td>22km S of Cantwell</td>\n",
       "      <td>Alaska</td>\n",
       "    </tr>\n",
       "    <tr>\n",
       "      <th>4</th>\n",
       "      <td>2014-01-31</td>\n",
       "      <td>32.616833</td>\n",
       "      <td>-115.6925</td>\n",
       "      <td>10.59</td>\n",
       "      <td>1.34</td>\n",
       "      <td>ml</td>\n",
       "      <td>6.0</td>\n",
       "      <td>285.00</td>\n",
       "      <td>0.04321</td>\n",
       "      <td>0.2000</td>\n",
       "      <td>ci</td>\n",
       "      <td>ci37171541</td>\n",
       "      <td>2014-02-01T00:13:20.107Z</td>\n",
       "      <td>10km WNW of Progreso, Mexico</td>\n",
       "      <td>earthquake</td>\n",
       "      <td>10km WNW of Progreso</td>\n",
       "      <td>Mexico</td>\n",
       "    </tr>\n",
       "  </tbody>\n",
       "</table>\n",
       "</div>"
      ],
      "text/plain": [
       "         date   latitude  longitude  depth   mag magType  nst     gap  \\\n",
       "0  2014-01-31  60.252000  -152.7081  90.20  1.10      ml  NaN     NaN   \n",
       "1  2014-01-31  37.070300  -115.1309   0.00  1.33      ml  4.0  171.43   \n",
       "2  2014-01-31  64.671700  -149.2528   7.10  1.30      ml  NaN     NaN   \n",
       "3  2014-01-31  63.188700  -148.9575  96.50  0.80      ml  NaN     NaN   \n",
       "4  2014-01-31  32.616833  -115.6925  10.59  1.34      ml  6.0  285.00   \n",
       "\n",
       "      dmin     rms net          id                   updated  \\\n",
       "0      NaN  0.2900  ak  ak11155107  2014-02-05T19:34:41.515Z   \n",
       "1  0.34200  0.0247  nn  nn00436847  2014-02-01T01:35:09.000Z   \n",
       "2      NaN  1.0000  ak  ak11151142  2014-02-01T00:03:53.010Z   \n",
       "3      NaN  1.0700  ak  ak11151135  2014-01-31T23:41:25.007Z   \n",
       "4  0.04321  0.2000  ci  ci37171541  2014-02-01T00:13:20.107Z   \n",
       "\n",
       "                               place        type                   location  \\\n",
       "0  26km S of Redoubt Volcano, Alaska  earthquake  26km S of Redoubt Volcano   \n",
       "1            32km S of Alamo, Nevada  earthquake            32km S of Alamo   \n",
       "2   12km NNW of North Nenana, Alaska  earthquake   12km NNW of North Nenana   \n",
       "3         22km S of Cantwell, Alaska  earthquake         22km S of Cantwell   \n",
       "4       10km WNW of Progreso, Mexico  earthquake       10km WNW of Progreso   \n",
       "\n",
       "     state  \n",
       "0   Alaska  \n",
       "1   Nevada  \n",
       "2   Alaska  \n",
       "3   Alaska  \n",
       "4   Mexico  "
      ]
     },
     "execution_count": 101,
     "metadata": {},
     "output_type": "execute_result"
    }
   ],
   "source": [
    "df.head()"
   ]
  },
  {
   "cell_type": "code",
   "execution_count": 103,
   "metadata": {
    "colab": {
     "base_uri": "https://localhost:8080/"
    },
    "executionInfo": {
     "elapsed": 8773,
     "status": "ok",
     "timestamp": 1610862982550,
     "user": {
      "displayName": "Santhosh muruganantham",
      "photoUrl": "",
      "userId": "17035721003104891216"
     },
     "user_tz": -330
    },
    "id": "FlXBG0igXAxA",
    "outputId": "f194ecc0-040e-409d-ec6e-80bae832271d"
   },
   "outputs": [
    {
     "data": {
      "text/plain": [
       " California     44451\n",
       " Alaska         33589\n",
       " Oregon          3195\n",
       " Nevada          2858\n",
       " Washington      2784\n",
       " Hawaii          2564\n",
       " Puerto Rico     2284\n",
       " Indonesia       2120\n",
       " Oklahoma        1992\n",
       " Montana         1991\n",
       "Name: state, dtype: int64"
      ]
     },
     "execution_count": 103,
     "metadata": {},
     "output_type": "execute_result"
    }
   ],
   "source": [
    "#states with higher number of earthquakes\n",
    "top_10_states = df['state'].value_counts()\n",
    "top_10_states.head(10)"
   ]
  },
  {
   "cell_type": "markdown",
   "metadata": {
    "id": "nw8UyiplXAxC"
   },
   "source": [
    "### Find the top 10 states / countries where the strongest and weakest earthquakes occured"
   ]
  },
  {
   "cell_type": "code",
   "execution_count": 102,
   "metadata": {
    "colab": {
     "base_uri": "https://localhost:8080/",
     "height": 497
    },
    "executionInfo": {
     "elapsed": 8738,
     "status": "ok",
     "timestamp": 1610862982553,
     "user": {
      "displayName": "Santhosh muruganantham",
      "photoUrl": "",
      "userId": "17035721003104891216"
     },
     "user_tz": -330
    },
    "id": "ybzw1DvVXAxD",
    "outputId": "d5c5db82-0e9e-4b19-90ec-707f75515023"
   },
   "outputs": [
    {
     "data": {
      "text/html": [
       "<div>\n",
       "<style scoped>\n",
       "    .dataframe tbody tr th:only-of-type {\n",
       "        vertical-align: middle;\n",
       "    }\n",
       "\n",
       "    .dataframe tbody tr th {\n",
       "        vertical-align: top;\n",
       "    }\n",
       "\n",
       "    .dataframe thead th {\n",
       "        text-align: right;\n",
       "    }\n",
       "</style>\n",
       "<table border=\"1\" class=\"dataframe\">\n",
       "  <thead>\n",
       "    <tr style=\"text-align: right;\">\n",
       "      <th></th>\n",
       "      <th>date</th>\n",
       "      <th>latitude</th>\n",
       "      <th>longitude</th>\n",
       "      <th>depth</th>\n",
       "      <th>mag</th>\n",
       "      <th>magType</th>\n",
       "      <th>nst</th>\n",
       "      <th>gap</th>\n",
       "      <th>dmin</th>\n",
       "      <th>rms</th>\n",
       "      <th>net</th>\n",
       "      <th>id</th>\n",
       "      <th>updated</th>\n",
       "      <th>place</th>\n",
       "      <th>type</th>\n",
       "      <th>location</th>\n",
       "      <th>state</th>\n",
       "    </tr>\n",
       "  </thead>\n",
       "  <tbody>\n",
       "    <tr>\n",
       "      <th>0</th>\n",
       "      <td>2014-01-31</td>\n",
       "      <td>60.252000</td>\n",
       "      <td>-152.7081</td>\n",
       "      <td>90.20</td>\n",
       "      <td>1.10</td>\n",
       "      <td>ml</td>\n",
       "      <td>NaN</td>\n",
       "      <td>NaN</td>\n",
       "      <td>NaN</td>\n",
       "      <td>0.2900</td>\n",
       "      <td>ak</td>\n",
       "      <td>ak11155107</td>\n",
       "      <td>2014-02-05T19:34:41.515Z</td>\n",
       "      <td>26km S of Redoubt Volcano, Alaska</td>\n",
       "      <td>earthquake</td>\n",
       "      <td>26km S of Redoubt Volcano</td>\n",
       "      <td>Alaska</td>\n",
       "    </tr>\n",
       "    <tr>\n",
       "      <th>1</th>\n",
       "      <td>2014-01-31</td>\n",
       "      <td>37.070300</td>\n",
       "      <td>-115.1309</td>\n",
       "      <td>0.00</td>\n",
       "      <td>1.33</td>\n",
       "      <td>ml</td>\n",
       "      <td>4.0</td>\n",
       "      <td>171.43</td>\n",
       "      <td>0.34200</td>\n",
       "      <td>0.0247</td>\n",
       "      <td>nn</td>\n",
       "      <td>nn00436847</td>\n",
       "      <td>2014-02-01T01:35:09.000Z</td>\n",
       "      <td>32km S of Alamo, Nevada</td>\n",
       "      <td>earthquake</td>\n",
       "      <td>32km S of Alamo</td>\n",
       "      <td>Nevada</td>\n",
       "    </tr>\n",
       "    <tr>\n",
       "      <th>2</th>\n",
       "      <td>2014-01-31</td>\n",
       "      <td>64.671700</td>\n",
       "      <td>-149.2528</td>\n",
       "      <td>7.10</td>\n",
       "      <td>1.30</td>\n",
       "      <td>ml</td>\n",
       "      <td>NaN</td>\n",
       "      <td>NaN</td>\n",
       "      <td>NaN</td>\n",
       "      <td>1.0000</td>\n",
       "      <td>ak</td>\n",
       "      <td>ak11151142</td>\n",
       "      <td>2014-02-01T00:03:53.010Z</td>\n",
       "      <td>12km NNW of North Nenana, Alaska</td>\n",
       "      <td>earthquake</td>\n",
       "      <td>12km NNW of North Nenana</td>\n",
       "      <td>Alaska</td>\n",
       "    </tr>\n",
       "    <tr>\n",
       "      <th>3</th>\n",
       "      <td>2014-01-31</td>\n",
       "      <td>63.188700</td>\n",
       "      <td>-148.9575</td>\n",
       "      <td>96.50</td>\n",
       "      <td>0.80</td>\n",
       "      <td>ml</td>\n",
       "      <td>NaN</td>\n",
       "      <td>NaN</td>\n",
       "      <td>NaN</td>\n",
       "      <td>1.0700</td>\n",
       "      <td>ak</td>\n",
       "      <td>ak11151135</td>\n",
       "      <td>2014-01-31T23:41:25.007Z</td>\n",
       "      <td>22km S of Cantwell, Alaska</td>\n",
       "      <td>earthquake</td>\n",
       "      <td>22km S of Cantwell</td>\n",
       "      <td>Alaska</td>\n",
       "    </tr>\n",
       "    <tr>\n",
       "      <th>4</th>\n",
       "      <td>2014-01-31</td>\n",
       "      <td>32.616833</td>\n",
       "      <td>-115.6925</td>\n",
       "      <td>10.59</td>\n",
       "      <td>1.34</td>\n",
       "      <td>ml</td>\n",
       "      <td>6.0</td>\n",
       "      <td>285.00</td>\n",
       "      <td>0.04321</td>\n",
       "      <td>0.2000</td>\n",
       "      <td>ci</td>\n",
       "      <td>ci37171541</td>\n",
       "      <td>2014-02-01T00:13:20.107Z</td>\n",
       "      <td>10km WNW of Progreso, Mexico</td>\n",
       "      <td>earthquake</td>\n",
       "      <td>10km WNW of Progreso</td>\n",
       "      <td>Mexico</td>\n",
       "    </tr>\n",
       "  </tbody>\n",
       "</table>\n",
       "</div>"
      ],
      "text/plain": [
       "         date   latitude  longitude  depth   mag magType  nst     gap  \\\n",
       "0  2014-01-31  60.252000  -152.7081  90.20  1.10      ml  NaN     NaN   \n",
       "1  2014-01-31  37.070300  -115.1309   0.00  1.33      ml  4.0  171.43   \n",
       "2  2014-01-31  64.671700  -149.2528   7.10  1.30      ml  NaN     NaN   \n",
       "3  2014-01-31  63.188700  -148.9575  96.50  0.80      ml  NaN     NaN   \n",
       "4  2014-01-31  32.616833  -115.6925  10.59  1.34      ml  6.0  285.00   \n",
       "\n",
       "      dmin     rms net          id                   updated  \\\n",
       "0      NaN  0.2900  ak  ak11155107  2014-02-05T19:34:41.515Z   \n",
       "1  0.34200  0.0247  nn  nn00436847  2014-02-01T01:35:09.000Z   \n",
       "2      NaN  1.0000  ak  ak11151142  2014-02-01T00:03:53.010Z   \n",
       "3      NaN  1.0700  ak  ak11151135  2014-01-31T23:41:25.007Z   \n",
       "4  0.04321  0.2000  ci  ci37171541  2014-02-01T00:13:20.107Z   \n",
       "\n",
       "                               place        type                   location  \\\n",
       "0  26km S of Redoubt Volcano, Alaska  earthquake  26km S of Redoubt Volcano   \n",
       "1            32km S of Alamo, Nevada  earthquake            32km S of Alamo   \n",
       "2   12km NNW of North Nenana, Alaska  earthquake   12km NNW of North Nenana   \n",
       "3         22km S of Cantwell, Alaska  earthquake         22km S of Cantwell   \n",
       "4       10km WNW of Progreso, Mexico  earthquake       10km WNW of Progreso   \n",
       "\n",
       "     state  \n",
       "0   Alaska  \n",
       "1   Nevada  \n",
       "2   Alaska  \n",
       "3   Alaska  \n",
       "4   Mexico  "
      ]
     },
     "execution_count": 102,
     "metadata": {},
     "output_type": "execute_result"
    }
   ],
   "source": [
    "df.head()"
   ]
  },
  {
   "cell_type": "code",
   "execution_count": 104,
   "metadata": {
    "executionInfo": {
     "elapsed": 8708,
     "status": "ok",
     "timestamp": 1610862982557,
     "user": {
      "displayName": "Santhosh muruganantham",
      "photoUrl": "",
      "userId": "17035721003104891216"
     },
     "user_tz": -330
    },
    "id": "eS9utKs9XAxE"
   },
   "outputs": [],
   "source": [
    "#here earthquake with magnitude greater than 5 are strong earthquake and \n",
    "# earthquake with magnitude lesser than 5 are weak earthquake\n",
    "strong_earthquakes = df[df['mag'] > 5]"
   ]
  },
  {
   "cell_type": "code",
   "execution_count": 105,
   "metadata": {
    "executionInfo": {
     "elapsed": 8693,
     "status": "ok",
     "timestamp": 1610862982561,
     "user": {
      "displayName": "Santhosh muruganantham",
      "photoUrl": "",
      "userId": "17035721003104891216"
     },
     "user_tz": -330
    },
    "id": "jb42b-9lXAxG"
   },
   "outputs": [],
   "source": [
    "strong_eq = strong_earthquakes['state'].value_counts()"
   ]
  },
  {
   "cell_type": "code",
   "execution_count": 106,
   "metadata": {
    "colab": {
     "base_uri": "https://localhost:8080/"
    },
    "executionInfo": {
     "elapsed": 8666,
     "status": "ok",
     "timestamp": 1610862982566,
     "user": {
      "displayName": "Santhosh muruganantham",
      "photoUrl": "",
      "userId": "17035721003104891216"
     },
     "user_tz": -330
    },
    "id": "gXD5X-UuXAxI",
    "outputId": "9af0126b-6243-483f-cc31-7fdbc5f397fb"
   },
   "outputs": [
    {
     "data": {
      "text/plain": [
       " Papua New Guinea    131\n",
       " Indonesia           128\n",
       " Chile               120\n",
       " Japan                67\n",
       " New Zealand          60\n",
       " Philippines          56\n",
       " Solomon Islands      54\n",
       " Tonga                50\n",
       " Iceland              41\n",
       " Alaska               41\n",
       "Name: state, dtype: int64"
      ]
     },
     "execution_count": 106,
     "metadata": {},
     "output_type": "execute_result"
    }
   ],
   "source": [
    "#top 10 states / countries where the strongest eathquake occoured\n",
    "strong_eq.head(10)"
   ]
  },
  {
   "cell_type": "code",
   "execution_count": 111,
   "metadata": {
    "executionInfo": {
     "elapsed": 8644,
     "status": "ok",
     "timestamp": 1610862982579,
     "user": {
      "displayName": "Santhosh muruganantham",
      "photoUrl": "",
      "userId": "17035721003104891216"
     },
     "user_tz": -330
    },
    "id": "0E5Bw6xhXAxK"
   },
   "outputs": [],
   "source": [
    "weak_earthquakes = df[df['mag'] < 5]"
   ]
  },
  {
   "cell_type": "code",
   "execution_count": 112,
   "metadata": {
    "executionInfo": {
     "elapsed": 8630,
     "status": "ok",
     "timestamp": 1610862982587,
     "user": {
      "displayName": "Santhosh muruganantham",
      "photoUrl": "",
      "userId": "17035721003104891216"
     },
     "user_tz": -330
    },
    "id": "C48HjudWXAxL"
   },
   "outputs": [],
   "source": [
    "weak_eq = weak_earthquakes['state'].value_counts()"
   ]
  },
  {
   "cell_type": "code",
   "execution_count": 113,
   "metadata": {
    "colab": {
     "base_uri": "https://localhost:8080/"
    },
    "executionInfo": {
     "elapsed": 8597,
     "status": "ok",
     "timestamp": 1610862982592,
     "user": {
      "displayName": "Santhosh muruganantham",
      "photoUrl": "",
      "userId": "17035721003104891216"
     },
     "user_tz": -330
    },
    "id": "WXqu4ZVrXAxN",
    "outputId": "4417b835-5f0f-41c6-f27c-c677dcf8ada9"
   },
   "outputs": [
    {
     "data": {
      "text/plain": [
       " California     44444\n",
       " Alaska         33536\n",
       " Oregon          3193\n",
       " Nevada          2828\n",
       " Washington      2784\n",
       " Hawaii          2564\n",
       " Puerto Rico     2283\n",
       " Montana         1991\n",
       " Oklahoma        1991\n",
       " Indonesia       1946\n",
       "Name: state, dtype: int64"
      ]
     },
     "execution_count": 113,
     "metadata": {},
     "output_type": "execute_result"
    }
   ],
   "source": [
    "##top 10 states / countries where the strongest eathquake occoured\n",
    "weak_eq.head(10)"
   ]
  },
  {
   "cell_type": "markdown",
   "metadata": {
    "id": "P35lhzhEXAxP"
   },
   "source": [
    "### Questions 3 :\n",
    "\n",
    "### Matplotlib Assignment"
   ]
  },
  {
   "cell_type": "markdown",
   "metadata": {
    "id": "eXXAnlmWXAxQ"
   },
   "source": [
    "### With respect to iris dataset,\n",
    "\n",
    "### Describing the data"
   ]
  },
  {
   "cell_type": "code",
   "execution_count": 114,
   "metadata": {
    "executionInfo": {
     "elapsed": 1482,
     "status": "ok",
     "timestamp": 1610867174313,
     "user": {
      "displayName": "Santhosh muruganantham",
      "photoUrl": "",
      "userId": "17035721003104891216"
     },
     "user_tz": -330
    },
    "id": "QJhEzLHCXAxR"
   },
   "outputs": [
    {
     "data": {
      "text/html": [
       "<div>\n",
       "<style scoped>\n",
       "    .dataframe tbody tr th:only-of-type {\n",
       "        vertical-align: middle;\n",
       "    }\n",
       "\n",
       "    .dataframe tbody tr th {\n",
       "        vertical-align: top;\n",
       "    }\n",
       "\n",
       "    .dataframe thead th {\n",
       "        text-align: right;\n",
       "    }\n",
       "</style>\n",
       "<table border=\"1\" class=\"dataframe\">\n",
       "  <thead>\n",
       "    <tr style=\"text-align: right;\">\n",
       "      <th></th>\n",
       "      <th>sepal_length</th>\n",
       "      <th>sepal_width</th>\n",
       "      <th>petal_length</th>\n",
       "      <th>petal_width</th>\n",
       "    </tr>\n",
       "  </thead>\n",
       "  <tbody>\n",
       "    <tr>\n",
       "      <th>count</th>\n",
       "      <td>150.000000</td>\n",
       "      <td>150.000000</td>\n",
       "      <td>150.000000</td>\n",
       "      <td>150.000000</td>\n",
       "    </tr>\n",
       "    <tr>\n",
       "      <th>mean</th>\n",
       "      <td>5.843333</td>\n",
       "      <td>3.057333</td>\n",
       "      <td>3.758000</td>\n",
       "      <td>1.199333</td>\n",
       "    </tr>\n",
       "    <tr>\n",
       "      <th>std</th>\n",
       "      <td>0.828066</td>\n",
       "      <td>0.435866</td>\n",
       "      <td>1.765298</td>\n",
       "      <td>0.762238</td>\n",
       "    </tr>\n",
       "    <tr>\n",
       "      <th>min</th>\n",
       "      <td>4.300000</td>\n",
       "      <td>2.000000</td>\n",
       "      <td>1.000000</td>\n",
       "      <td>0.100000</td>\n",
       "    </tr>\n",
       "    <tr>\n",
       "      <th>25%</th>\n",
       "      <td>5.100000</td>\n",
       "      <td>2.800000</td>\n",
       "      <td>1.600000</td>\n",
       "      <td>0.300000</td>\n",
       "    </tr>\n",
       "    <tr>\n",
       "      <th>50%</th>\n",
       "      <td>5.800000</td>\n",
       "      <td>3.000000</td>\n",
       "      <td>4.350000</td>\n",
       "      <td>1.300000</td>\n",
       "    </tr>\n",
       "    <tr>\n",
       "      <th>75%</th>\n",
       "      <td>6.400000</td>\n",
       "      <td>3.300000</td>\n",
       "      <td>5.100000</td>\n",
       "      <td>1.800000</td>\n",
       "    </tr>\n",
       "    <tr>\n",
       "      <th>max</th>\n",
       "      <td>7.900000</td>\n",
       "      <td>4.400000</td>\n",
       "      <td>6.900000</td>\n",
       "      <td>2.500000</td>\n",
       "    </tr>\n",
       "  </tbody>\n",
       "</table>\n",
       "</div>"
      ],
      "text/plain": [
       "       sepal_length  sepal_width  petal_length  petal_width\n",
       "count    150.000000   150.000000    150.000000   150.000000\n",
       "mean       5.843333     3.057333      3.758000     1.199333\n",
       "std        0.828066     0.435866      1.765298     0.762238\n",
       "min        4.300000     2.000000      1.000000     0.100000\n",
       "25%        5.100000     2.800000      1.600000     0.300000\n",
       "50%        5.800000     3.000000      4.350000     1.300000\n",
       "75%        6.400000     3.300000      5.100000     1.800000\n",
       "max        7.900000     4.400000      6.900000     2.500000"
      ]
     },
     "execution_count": 114,
     "metadata": {},
     "output_type": "execute_result"
    }
   ],
   "source": [
    "import matplotlib.pyplot as plt\n",
    "import seaborn as sns\n",
    "iris_df = sns.load_dataset('iris')\n",
    "iris_df.describe()"
   ]
  },
  {
   "cell_type": "markdown",
   "metadata": {
    "id": "9c0-xl_cXAxU"
   },
   "source": [
    "### Plot the frequency of the three species in the Iris Dataset."
   ]
  },
  {
   "cell_type": "code",
   "execution_count": 115,
   "metadata": {
    "colab": {
     "base_uri": "https://localhost:8080/",
     "height": 203
    },
    "executionInfo": {
     "elapsed": 1312,
     "status": "ok",
     "timestamp": 1610867184634,
     "user": {
      "displayName": "Santhosh muruganantham",
      "photoUrl": "",
      "userId": "17035721003104891216"
     },
     "user_tz": -330
    },
    "id": "m3JrJQehXAxU",
    "outputId": "ad036c42-0025-4130-d3ec-4e6408e28c61"
   },
   "outputs": [
    {
     "data": {
      "text/html": [
       "<div>\n",
       "<style scoped>\n",
       "    .dataframe tbody tr th:only-of-type {\n",
       "        vertical-align: middle;\n",
       "    }\n",
       "\n",
       "    .dataframe tbody tr th {\n",
       "        vertical-align: top;\n",
       "    }\n",
       "\n",
       "    .dataframe thead th {\n",
       "        text-align: right;\n",
       "    }\n",
       "</style>\n",
       "<table border=\"1\" class=\"dataframe\">\n",
       "  <thead>\n",
       "    <tr style=\"text-align: right;\">\n",
       "      <th></th>\n",
       "      <th>sepal_length</th>\n",
       "      <th>sepal_width</th>\n",
       "      <th>petal_length</th>\n",
       "      <th>petal_width</th>\n",
       "      <th>species</th>\n",
       "    </tr>\n",
       "  </thead>\n",
       "  <tbody>\n",
       "    <tr>\n",
       "      <th>0</th>\n",
       "      <td>5.1</td>\n",
       "      <td>3.5</td>\n",
       "      <td>1.4</td>\n",
       "      <td>0.2</td>\n",
       "      <td>setosa</td>\n",
       "    </tr>\n",
       "    <tr>\n",
       "      <th>1</th>\n",
       "      <td>4.9</td>\n",
       "      <td>3.0</td>\n",
       "      <td>1.4</td>\n",
       "      <td>0.2</td>\n",
       "      <td>setosa</td>\n",
       "    </tr>\n",
       "    <tr>\n",
       "      <th>2</th>\n",
       "      <td>4.7</td>\n",
       "      <td>3.2</td>\n",
       "      <td>1.3</td>\n",
       "      <td>0.2</td>\n",
       "      <td>setosa</td>\n",
       "    </tr>\n",
       "    <tr>\n",
       "      <th>3</th>\n",
       "      <td>4.6</td>\n",
       "      <td>3.1</td>\n",
       "      <td>1.5</td>\n",
       "      <td>0.2</td>\n",
       "      <td>setosa</td>\n",
       "    </tr>\n",
       "    <tr>\n",
       "      <th>4</th>\n",
       "      <td>5.0</td>\n",
       "      <td>3.6</td>\n",
       "      <td>1.4</td>\n",
       "      <td>0.2</td>\n",
       "      <td>setosa</td>\n",
       "    </tr>\n",
       "  </tbody>\n",
       "</table>\n",
       "</div>"
      ],
      "text/plain": [
       "   sepal_length  sepal_width  petal_length  petal_width species\n",
       "0           5.1          3.5           1.4          0.2  setosa\n",
       "1           4.9          3.0           1.4          0.2  setosa\n",
       "2           4.7          3.2           1.3          0.2  setosa\n",
       "3           4.6          3.1           1.5          0.2  setosa\n",
       "4           5.0          3.6           1.4          0.2  setosa"
      ]
     },
     "execution_count": 115,
     "metadata": {},
     "output_type": "execute_result"
    }
   ],
   "source": [
    "iris_df = sns.load_dataset('iris')\n",
    "iris_df.head()"
   ]
  },
  {
   "cell_type": "code",
   "execution_count": 116,
   "metadata": {
    "colab": {
     "base_uri": "https://localhost:8080/"
    },
    "executionInfo": {
     "elapsed": 8442,
     "status": "ok",
     "timestamp": 1610862982607,
     "user": {
      "displayName": "Santhosh muruganantham",
      "photoUrl": "",
      "userId": "17035721003104891216"
     },
     "user_tz": -330
    },
    "id": "9p4ooyYyybfm",
    "outputId": "fd1309ac-78b5-4d29-a1a0-0a7f09cfa5cf"
   },
   "outputs": [
    {
     "data": {
      "text/plain": [
       "virginica     50\n",
       "setosa        50\n",
       "versicolor    50\n",
       "Name: species, dtype: int64"
      ]
     },
     "execution_count": 116,
     "metadata": {},
     "output_type": "execute_result"
    }
   ],
   "source": [
    "iris_df['species'].value_counts()"
   ]
  },
  {
   "cell_type": "code",
   "execution_count": 134,
   "metadata": {
    "colab": {
     "base_uri": "https://localhost:8080/",
     "height": 324
    },
    "executionInfo": {
     "elapsed": 2436,
     "status": "ok",
     "timestamp": 1610867977820,
     "user": {
      "displayName": "Santhosh muruganantham",
      "photoUrl": "",
      "userId": "17035721003104891216"
     },
     "user_tz": -330
    },
    "id": "LCQhc-P1vHZ4",
    "outputId": "b25efc5a-f24c-400c-8896-de5263073ff9"
   },
   "outputs": [
    {
     "data": {
      "image/png": "[encoded data removed]",
      "text/plain": [
       "<Figure size 504x504 with 1 Axes>"
      ]
     },
     "metadata": {
      "needs_background": "light"
     },
     "output_type": "display_data"
    }
   ],
   "source": [
    "fig = plt.figure(figsize =(7, 7))\n",
    "plt.hist(x='species',data=iris_df)\n",
    "#set title for graph\n",
    "plt.title('Frequency of the three species in the Iris Dataset',fontsize= 14)\n",
    "# set x label\n",
    "plt.xlabel('Species')\n",
    "# set y label\n",
    "plt.ylabel('Count')\n",
    "\n",
    "    \n",
    "plt.show();"
   ]
  },
  {
   "cell_type": "markdown",
   "metadata": {
    "id": "XleyzsaFXAxW"
   },
   "source": [
    "### Plot the Pie of the three species in the Iris Dataset."
   ]
  },
  {
   "cell_type": "code",
   "execution_count": 138,
   "metadata": {
    "colab": {
     "base_uri": "https://localhost:8080/",
     "height": 482
    },
    "executionInfo": {
     "elapsed": 8358,
     "status": "ok",
     "timestamp": 1610862982612,
     "user": {
      "displayName": "Santhosh muruganantham",
      "photoUrl": "",
      "userId": "17035721003104891216"
     },
     "user_tz": -330
    },
    "id": "q9fzYtE0XAxX",
    "outputId": "7d884a55-1002-4f5d-c686-91f4bd2b0f4b"
   },
   "outputs": [
    {
     "data": {
      "image/png": "[encoded data removed]",
      "text/plain": [
       "<Figure size 720x576 with 1 Axes>"
      ]
     },
     "metadata": {},
     "output_type": "display_data"
    }
   ],
   "source": [
    "fig = plt.figure(figsize =(7, 5))\n",
    "iris_df['species'].value_counts().plot.pie(explode=[0.1,0.1,0.1],autopct='%.2f',shadow=True,figsize=(10,8))\n",
    "plt.title(\"Iris Species %\")\n",
    "\n",
    "plt.show();"
   ]
  },
  {
   "cell_type": "markdown",
   "metadata": {
    "id": "7IAn9-QSXAxY"
   },
   "source": [
    "### Combining Box and Strip Plots for Species vs sepal length."
   ]
  },
  {
   "cell_type": "code",
   "execution_count": 129,
   "metadata": {
    "colab": {
     "base_uri": "https://localhost:8080/",
     "height": 442
    },
    "executionInfo": {
     "elapsed": 8319,
     "status": "ok",
     "timestamp": 1610862982614,
     "user": {
      "displayName": "Santhosh muruganantham",
      "photoUrl": "",
      "userId": "17035721003104891216"
     },
     "user_tz": -330
    },
    "id": "_i5A8BauXAxZ",
    "outputId": "12e9283e-e89b-4040-e342-52803bbbca75"
   },
   "outputs": [
    {
     "data": {
      "image/png": "[encoded data removed]",
      "text/plain": [
       "<Figure size 504x504 with 1 Axes>"
      ]
     },
     "metadata": {
      "needs_background": "light"
     },
     "output_type": "display_data"
    }
   ],
   "source": [
    "plt.figure(figsize = (7,7))\n",
    "sns.stripplot(x = 'species',y = 'sepal_length',data = iris_df,\n",
    "              palette = 'colorblind',edgecolor = 'black')\n",
    "sns.boxplot(x = 'species',y = 'sepal_length',data = iris_df,color = 'red',saturation=.5)\n",
    "plt.show();"
   ]
  },
  {
   "cell_type": "markdown",
   "metadata": {
    "id": "00TCxuVRXAxb"
   },
   "source": [
    "### Find out the correlation between different features in the dataset"
   ]
  },
  {
   "cell_type": "code",
   "execution_count": 139,
   "metadata": {
    "executionInfo": {
     "elapsed": 8347,
     "status": "ok",
     "timestamp": 1610862982668,
     "user": {
      "displayName": "Santhosh muruganantham",
      "photoUrl": "",
      "userId": "17035721003104891216"
     },
     "user_tz": -330
    },
    "id": "aucnjgmjXAxb"
   },
   "outputs": [],
   "source": [
    "data = iris_df[iris_df.columns]\n",
    "#data\n",
    "corr = data.corr(method=\"pearson\")"
   ]
  },
  {
   "cell_type": "code",
   "execution_count": 140,
   "metadata": {
    "colab": {
     "base_uri": "https://localhost:8080/",
     "height": 172
    },
    "executionInfo": {
     "elapsed": 8328,
     "status": "ok",
     "timestamp": 1610862982670,
     "user": {
      "displayName": "Santhosh muruganantham",
      "photoUrl": "",
      "userId": "17035721003104891216"
     },
     "user_tz": -330
    },
    "id": "JOpOqb3X55kR",
    "outputId": "de96cd8b-4d34-48dc-bedc-ad01432c83e4"
   },
   "outputs": [
    {
     "data": {
      "text/html": [
       "<div>\n",
       "<style scoped>\n",
       "    .dataframe tbody tr th:only-of-type {\n",
       "        vertical-align: middle;\n",
       "    }\n",
       "\n",
       "    .dataframe tbody tr th {\n",
       "        vertical-align: top;\n",
       "    }\n",
       "\n",
       "    .dataframe thead th {\n",
       "        text-align: right;\n",
       "    }\n",
       "</style>\n",
       "<table border=\"1\" class=\"dataframe\">\n",
       "  <thead>\n",
       "    <tr style=\"text-align: right;\">\n",
       "      <th></th>\n",
       "      <th>sepal_length</th>\n",
       "      <th>sepal_width</th>\n",
       "      <th>petal_length</th>\n",
       "      <th>petal_width</th>\n",
       "    </tr>\n",
       "  </thead>\n",
       "  <tbody>\n",
       "    <tr>\n",
       "      <th>sepal_length</th>\n",
       "      <td>1.000000</td>\n",
       "      <td>NaN</td>\n",
       "      <td>NaN</td>\n",
       "      <td>NaN</td>\n",
       "    </tr>\n",
       "    <tr>\n",
       "      <th>sepal_width</th>\n",
       "      <td>-0.117570</td>\n",
       "      <td>1.000000</td>\n",
       "      <td>NaN</td>\n",
       "      <td>NaN</td>\n",
       "    </tr>\n",
       "    <tr>\n",
       "      <th>petal_length</th>\n",
       "      <td>0.871754</td>\n",
       "      <td>-0.428440</td>\n",
       "      <td>1.000000</td>\n",
       "      <td>NaN</td>\n",
       "    </tr>\n",
       "    <tr>\n",
       "      <th>petal_width</th>\n",
       "      <td>0.817941</td>\n",
       "      <td>-0.366126</td>\n",
       "      <td>0.962865</td>\n",
       "      <td>1.0</td>\n",
       "    </tr>\n",
       "  </tbody>\n",
       "</table>\n",
       "</div>"
      ],
      "text/plain": [
       "              sepal_length  sepal_width  petal_length  petal_width\n",
       "sepal_length      1.000000          NaN           NaN          NaN\n",
       "sepal_width      -0.117570     1.000000           NaN          NaN\n",
       "petal_length      0.871754    -0.428440      1.000000          NaN\n",
       "petal_width       0.817941    -0.366126      0.962865          1.0"
      ]
     },
     "metadata": {},
     "output_type": "display_data"
    }
   ],
   "source": [
    "bool_upper_matrix = np.tril(np.ones(corr.shape)).astype(np.bool)\n",
    "corr = corr.where(bool_upper_matrix)\n",
    "display(corr)"
   ]
  },
  {
   "cell_type": "markdown",
   "metadata": {
    "id": "ONPB6aruXAxc"
   },
   "source": [
    "### Plot Venn diagram for sepal length vs sepal width."
   ]
  },
  {
   "cell_type": "code",
   "execution_count": 141,
   "metadata": {
    "executionInfo": {
     "elapsed": 1543,
     "status": "ok",
     "timestamp": 1610863633190,
     "user": {
      "displayName": "Santhosh muruganantham",
      "photoUrl": "",
      "userId": "17035721003104891216"
     },
     "user_tz": -330
    },
    "id": "lG5EaCIfXAxe"
   },
   "outputs": [],
   "source": [
    "from matplotlib_venn import venn2,venn2_circles"
   ]
  },
  {
   "cell_type": "code",
   "execution_count": 142,
   "metadata": {
    "colab": {
     "base_uri": "https://localhost:8080/"
    },
    "executionInfo": {
     "elapsed": 1097,
     "status": "ok",
     "timestamp": 1610864128814,
     "user": {
      "displayName": "Santhosh muruganantham",
      "photoUrl": "",
      "userId": "17035721003104891216"
     },
     "user_tz": -330
    },
    "id": "f6vnKlY_-xHB",
    "outputId": "c5d452dc-a954-4c7e-a712-e70c531b6c06"
   },
   "outputs": [
    {
     "name": "stdout",
     "output_type": "stream",
     "text": [
      "150\n",
      "150\n"
     ]
    }
   ],
   "source": [
    "print(len(iris_df['sepal_length']))\n",
    "print(len(iris_df['sepal_width']))"
   ]
  },
  {
   "cell_type": "code",
   "execution_count": 143,
   "metadata": {
    "colab": {
     "base_uri": "https://localhost:8080/",
     "height": 235
    },
    "executionInfo": {
     "elapsed": 1191,
     "status": "ok",
     "timestamp": 1610864010057,
     "user": {
      "displayName": "Santhosh muruganantham",
      "photoUrl": "",
      "userId": "17035721003104891216"
     },
     "user_tz": -330
    },
    "id": "P166gccd9QbQ",
    "outputId": "9167050d-bd08-411e-bf9b-1da8797c698e"
   },
   "outputs": [
    {
     "data": {
      "image/png": "[encoded data removed]",
      "text/plain": [
       "<Figure size 432x288 with 1 Axes>"
      ]
     },
     "metadata": {},
     "output_type": "display_data"
    }
   ],
   "source": [
    "sepal_length = iris_df.iloc[:,0]\n",
    "sepal_width = iris_df.iloc[:,1]\n",
    "\n",
    "# First way to call the 2 group Venn diagram\n",
    "venn2(subsets = (len(sepal_length)-15, len(sepal_width)-15, 15), \n",
    "      set_labels = ('sepal_length', 'sepal_width'))\n",
    "plt.show();"
   ]
  },
  {
   "cell_type": "markdown",
   "metadata": {
    "id": "05Vr_baaXAxh"
   },
   "source": [
    "### Questions 4 :\n",
    "### Pandas+Matplotlib Assignment"
   ]
  },
  {
   "cell_type": "code",
   "execution_count": 144,
   "metadata": {},
   "outputs": [
    {
     "data": {
      "text/html": [
       "<div>\n",
       "<style scoped>\n",
       "    .dataframe tbody tr th:only-of-type {\n",
       "        vertical-align: middle;\n",
       "    }\n",
       "\n",
       "    .dataframe tbody tr th {\n",
       "        vertical-align: top;\n",
       "    }\n",
       "\n",
       "    .dataframe thead th {\n",
       "        text-align: right;\n",
       "    }\n",
       "</style>\n",
       "<table border=\"1\" class=\"dataframe\">\n",
       "  <thead>\n",
       "    <tr style=\"text-align: right;\">\n",
       "      <th></th>\n",
       "      <th>CountryName</th>\n",
       "      <th>CountryCode</th>\n",
       "      <th>IndicatorName</th>\n",
       "      <th>IndicatorCode</th>\n",
       "      <th>Year</th>\n",
       "      <th>Value</th>\n",
       "    </tr>\n",
       "  </thead>\n",
       "  <tbody>\n",
       "    <tr>\n",
       "      <th>0</th>\n",
       "      <td>Arab World</td>\n",
       "      <td>ARB</td>\n",
       "      <td>Adolescent fertility rate (births per 1,000 wo...</td>\n",
       "      <td>SP.ADO.TFRT</td>\n",
       "      <td>1960</td>\n",
       "      <td>1.335609e+02</td>\n",
       "    </tr>\n",
       "    <tr>\n",
       "      <th>1</th>\n",
       "      <td>Arab World</td>\n",
       "      <td>ARB</td>\n",
       "      <td>Age dependency ratio (% of working-age populat...</td>\n",
       "      <td>SP.POP.DPND</td>\n",
       "      <td>1960</td>\n",
       "      <td>8.779760e+01</td>\n",
       "    </tr>\n",
       "    <tr>\n",
       "      <th>2</th>\n",
       "      <td>Arab World</td>\n",
       "      <td>ARB</td>\n",
       "      <td>Age dependency ratio, old (% of working-age po...</td>\n",
       "      <td>SP.POP.DPND.OL</td>\n",
       "      <td>1960</td>\n",
       "      <td>6.634579e+00</td>\n",
       "    </tr>\n",
       "    <tr>\n",
       "      <th>3</th>\n",
       "      <td>Arab World</td>\n",
       "      <td>ARB</td>\n",
       "      <td>Age dependency ratio, young (% of working-age ...</td>\n",
       "      <td>SP.POP.DPND.YG</td>\n",
       "      <td>1960</td>\n",
       "      <td>8.102333e+01</td>\n",
       "    </tr>\n",
       "    <tr>\n",
       "      <th>4</th>\n",
       "      <td>Arab World</td>\n",
       "      <td>ARB</td>\n",
       "      <td>Arms exports (SIPRI trend indicator values)</td>\n",
       "      <td>MS.MIL.XPRT.KD</td>\n",
       "      <td>1960</td>\n",
       "      <td>3.000000e+06</td>\n",
       "    </tr>\n",
       "  </tbody>\n",
       "</table>\n",
       "</div>"
      ],
      "text/plain": [
       "  CountryName CountryCode                                      IndicatorName  \\\n",
       "0  Arab World         ARB  Adolescent fertility rate (births per 1,000 wo...   \n",
       "1  Arab World         ARB  Age dependency ratio (% of working-age populat...   \n",
       "2  Arab World         ARB  Age dependency ratio, old (% of working-age po...   \n",
       "3  Arab World         ARB  Age dependency ratio, young (% of working-age ...   \n",
       "4  Arab World         ARB        Arms exports (SIPRI trend indicator values)   \n",
       "\n",
       "    IndicatorCode  Year         Value  \n",
       "0     SP.ADO.TFRT  1960  1.335609e+02  \n",
       "1     SP.POP.DPND  1960  8.779760e+01  \n",
       "2  SP.POP.DPND.OL  1960  6.634579e+00  \n",
       "3  SP.POP.DPND.YG  1960  8.102333e+01  \n",
       "4  MS.MIL.XPRT.KD  1960  3.000000e+06  "
      ]
     },
     "execution_count": 144,
     "metadata": {},
     "output_type": "execute_result"
    }
   ],
   "source": [
    "df = pd.read_csv('Indicators.csv')\n",
    "df.head()"
   ]
  },
  {
   "cell_type": "markdown",
   "metadata": {
    "id": "x7ABYG6OXAxj"
   },
   "source": [
    "### How many UNIQUE country names are there ?"
   ]
  },
  {
   "cell_type": "code",
   "execution_count": 146,
   "metadata": {
    "colab": {
     "base_uri": "https://localhost:8080/"
    },
    "executionInfo": {
     "elapsed": 2344,
     "status": "ok",
     "timestamp": 1610870094577,
     "user": {
      "displayName": "Santhosh muruganantham",
      "photoUrl": "",
      "userId": "17035721003104891216"
     },
     "user_tz": -330
    },
    "id": "DzH8hVskXAxk",
    "outputId": "642fd6b2-983e-41f7-d872-1265f4ed8542"
   },
   "outputs": [
    {
     "data": {
      "text/plain": [
       "247"
      ]
     },
     "execution_count": 146,
     "metadata": {},
     "output_type": "execute_result"
    }
   ],
   "source": [
    "country_name = len(df['CountryName'].unique())\n",
    "country_name\n",
    "#there are a total of 247 unique country names "
   ]
  },
  {
   "cell_type": "markdown",
   "metadata": {
    "id": "L1sG_9guXAxp"
   },
   "source": [
    "### Are there the same number of country codes ?"
   ]
  },
  {
   "cell_type": "code",
   "execution_count": 147,
   "metadata": {
    "colab": {
     "base_uri": "https://localhost:8080/"
    },
    "executionInfo": {
     "elapsed": 1241,
     "status": "ok",
     "timestamp": 1610870137213,
     "user": {
      "displayName": "Santhosh muruganantham",
      "photoUrl": "",
      "userId": "17035721003104891216"
     },
     "user_tz": -330
    },
    "id": "4eJT2vKtXAxq",
    "outputId": "9e547f15-0f77-4d68-da43-5c0d0678b620"
   },
   "outputs": [
    {
     "data": {
      "text/plain": [
       "True"
      ]
     },
     "execution_count": 147,
     "metadata": {},
     "output_type": "execute_result"
    }
   ],
   "source": [
    "country_code = len(df['CountryCode'].unique())\n",
    "country_code == country_name\n",
    "#the country code are eqaul to the number of country names"
   ]
  },
  {
   "cell_type": "markdown",
   "metadata": {
    "id": "HPjfNCFNXAxr"
   },
   "source": [
    "### Are there many indicators or few ?"
   ]
  },
  {
   "cell_type": "code",
   "execution_count": 148,
   "metadata": {
    "colab": {
     "base_uri": "https://localhost:8080/"
    },
    "executionInfo": {
     "elapsed": 3885,
     "status": "ok",
     "timestamp": 1610870191625,
     "user": {
      "displayName": "Santhosh muruganantham",
      "photoUrl": "",
      "userId": "17035721003104891216"
     },
     "user_tz": -330
    },
    "id": "HFk48zqcXAxs",
    "outputId": "37c80289-5357-4cf6-dee3-f91562d3bc36"
   },
   "outputs": [
    {
     "data": {
      "text/plain": [
       "1344"
      ]
     },
     "execution_count": 148,
     "metadata": {},
     "output_type": "execute_result"
    }
   ],
   "source": [
    "indicators = len(df['IndicatorName'].unique())\n",
    "indicators\n",
    "#there are a total of 1344 indicators which is quite large"
   ]
  },
  {
   "cell_type": "markdown",
   "metadata": {
    "id": "IRDtTELKXAxu"
   },
   "source": [
    "### How many years of data do we have ?"
   ]
  },
  {
   "cell_type": "code",
   "execution_count": 149,
   "metadata": {
    "colab": {
     "base_uri": "https://localhost:8080/"
    },
    "executionInfo": {
     "elapsed": 1530,
     "status": "ok",
     "timestamp": 1610870262741,
     "user": {
      "displayName": "Santhosh muruganantham",
      "photoUrl": "",
      "userId": "17035721003104891216"
     },
     "user_tz": -330
    },
    "id": "7AecCUDrXAxv",
    "outputId": "a1d50d49-56f5-4d70-8fd6-9f77be3c46b6"
   },
   "outputs": [
    {
     "data": {
      "text/plain": [
       "56"
      ]
     },
     "execution_count": 149,
     "metadata": {},
     "output_type": "execute_result"
    }
   ],
   "source": [
    "year = df['Year'].unique()\n",
    "len(year)\n",
    "#we have a total of 56 years of data"
   ]
  },
  {
   "cell_type": "markdown",
   "metadata": {
    "id": "YsFazdUxXAxx"
   },
   "source": [
    "### What's the range of years?"
   ]
  },
  {
   "cell_type": "code",
   "execution_count": 150,
   "metadata": {
    "executionInfo": {
     "elapsed": 10281,
     "status": "aborted",
     "timestamp": 1610862984817,
     "user": {
      "displayName": "Santhosh muruganantham",
      "photoUrl": "",
      "userId": "17035721003104891216"
     },
     "user_tz": -330
    },
    "id": "Dcxw7viBXAxy"
   },
   "outputs": [
    {
     "name": "stdout",
     "output_type": "stream",
     "text": [
      "1960\n",
      "2015\n"
     ]
    }
   ],
   "source": [
    "min_year = df['Year'].min()\n",
    "max_year = df['Year'].max()\n",
    "print(min_year)\n",
    "print(max_year)"
   ]
  },
  {
   "cell_type": "markdown",
   "metadata": {
    "id": "3VsA6rOzXAxz"
   },
   "source": [
    "### ScatterPlot for comparing GDP against CO2 emissions (per capita)"
   ]
  },
  {
   "cell_type": "code",
   "execution_count": 151,
   "metadata": {
    "executionInfo": {
     "elapsed": 1777,
     "status": "ok",
     "timestamp": 1610870489206,
     "user": {
      "displayName": "Santhosh muruganantham",
      "photoUrl": "",
      "userId": "17035721003104891216"
     },
     "user_tz": -330
    },
    "id": "9KbdDramXAx0"
   },
   "outputs": [],
   "source": [
    "co2_emission = df[df['IndicatorName']=='CO2 emissions (metric tons per capita)']"
   ]
  },
  {
   "cell_type": "code",
   "execution_count": 152,
   "metadata": {
    "colab": {
     "base_uri": "https://localhost:8080/",
     "height": 374
    },
    "executionInfo": {
     "elapsed": 1401,
     "status": "ok",
     "timestamp": 1610870632490,
     "user": {
      "displayName": "Santhosh muruganantham",
      "photoUrl": "",
      "userId": "17035721003104891216"
     },
     "user_tz": -330
    },
    "id": "pdKGQZDdXAx5",
    "outputId": "e4ca762a-4581-405d-f4c0-cc34799d6c1b"
   },
   "outputs": [
    {
     "data": {
      "text/html": [
       "<div>\n",
       "<style scoped>\n",
       "    .dataframe tbody tr th:only-of-type {\n",
       "        vertical-align: middle;\n",
       "    }\n",
       "\n",
       "    .dataframe tbody tr th {\n",
       "        vertical-align: top;\n",
       "    }\n",
       "\n",
       "    .dataframe thead th {\n",
       "        text-align: right;\n",
       "    }\n",
       "</style>\n",
       "<table border=\"1\" class=\"dataframe\">\n",
       "  <thead>\n",
       "    <tr style=\"text-align: right;\">\n",
       "      <th></th>\n",
       "      <th>CountryName</th>\n",
       "      <th>CountryCode</th>\n",
       "      <th>IndicatorName</th>\n",
       "      <th>IndicatorCode</th>\n",
       "      <th>Year</th>\n",
       "      <th>Value</th>\n",
       "    </tr>\n",
       "  </thead>\n",
       "  <tbody>\n",
       "    <tr>\n",
       "      <th>8</th>\n",
       "      <td>Arab World</td>\n",
       "      <td>ARB</td>\n",
       "      <td>CO2 emissions (metric tons per capita)</td>\n",
       "      <td>EN.ATM.CO2E.PC</td>\n",
       "      <td>1960</td>\n",
       "      <td>0.643964</td>\n",
       "    </tr>\n",
       "    <tr>\n",
       "      <th>86</th>\n",
       "      <td>Caribbean small states</td>\n",
       "      <td>CSS</td>\n",
       "      <td>CO2 emissions (metric tons per capita)</td>\n",
       "      <td>EN.ATM.CO2E.PC</td>\n",
       "      <td>1960</td>\n",
       "      <td>1.402641</td>\n",
       "    </tr>\n",
       "    <tr>\n",
       "      <th>166</th>\n",
       "      <td>Central Europe and the Baltics</td>\n",
       "      <td>CEB</td>\n",
       "      <td>CO2 emissions (metric tons per capita)</td>\n",
       "      <td>EN.ATM.CO2E.PC</td>\n",
       "      <td>1960</td>\n",
       "      <td>5.114244</td>\n",
       "    </tr>\n",
       "    <tr>\n",
       "      <th>239</th>\n",
       "      <td>East Asia &amp; Pacific (all income levels)</td>\n",
       "      <td>EAS</td>\n",
       "      <td>CO2 emissions (metric tons per capita)</td>\n",
       "      <td>EN.ATM.CO2E.PC</td>\n",
       "      <td>1960</td>\n",
       "      <td>1.162003</td>\n",
       "    </tr>\n",
       "    <tr>\n",
       "      <th>362</th>\n",
       "      <td>East Asia &amp; Pacific (developing only)</td>\n",
       "      <td>EAP</td>\n",
       "      <td>CO2 emissions (metric tons per capita)</td>\n",
       "      <td>EN.ATM.CO2E.PC</td>\n",
       "      <td>1960</td>\n",
       "      <td>0.952729</td>\n",
       "    </tr>\n",
       "  </tbody>\n",
       "</table>\n",
       "</div>"
      ],
      "text/plain": [
       "                                 CountryName CountryCode  \\\n",
       "8                                 Arab World         ARB   \n",
       "86                    Caribbean small states         CSS   \n",
       "166           Central Europe and the Baltics         CEB   \n",
       "239  East Asia & Pacific (all income levels)         EAS   \n",
       "362    East Asia & Pacific (developing only)         EAP   \n",
       "\n",
       "                              IndicatorName   IndicatorCode  Year     Value  \n",
       "8    CO2 emissions (metric tons per capita)  EN.ATM.CO2E.PC  1960  0.643964  \n",
       "86   CO2 emissions (metric tons per capita)  EN.ATM.CO2E.PC  1960  1.402641  \n",
       "166  CO2 emissions (metric tons per capita)  EN.ATM.CO2E.PC  1960  5.114244  \n",
       "239  CO2 emissions (metric tons per capita)  EN.ATM.CO2E.PC  1960  1.162003  \n",
       "362  CO2 emissions (metric tons per capita)  EN.ATM.CO2E.PC  1960  0.952729  "
      ]
     },
     "execution_count": 152,
     "metadata": {},
     "output_type": "execute_result"
    }
   ],
   "source": [
    "co2_emission.head()"
   ]
  },
  {
   "cell_type": "code",
   "execution_count": 153,
   "metadata": {
    "executionInfo": {
     "elapsed": 1362,
     "status": "ok",
     "timestamp": 1610871249340,
     "user": {
      "displayName": "Santhosh muruganantham",
      "photoUrl": "",
      "userId": "17035721003104891216"
     },
     "user_tz": -330
    },
    "id": "Lhp_40tlZywK"
   },
   "outputs": [],
   "source": [
    "value = co2_emission['Value']\n",
    "co2_emission_per_capita = co2_emission['IndicatorName']"
   ]
  },
  {
   "cell_type": "code",
   "execution_count": 154,
   "metadata": {
    "colab": {
     "base_uri": "https://localhost:8080/",
     "height": 265
    },
    "executionInfo": {
     "elapsed": 1220,
     "status": "ok",
     "timestamp": 1610871317066,
     "user": {
      "displayName": "Santhosh muruganantham",
      "photoUrl": "",
      "userId": "17035721003104891216"
     },
     "user_tz": -330
    },
    "id": "XVohunOzYPlN",
    "outputId": "3c5f911c-0bbc-453e-9763-4d2539042d6a"
   },
   "outputs": [
    {
     "data": {
      "image/png": "[encoded data removed]",
      "text/plain": [
       "<Figure size 432x288 with 1 Axes>"
      ]
     },
     "metadata": {
      "needs_background": "light"
     },
     "output_type": "display_data"
    }
   ],
   "source": [
    "plt.scatter(x = co2_emission_per_capita, y = value)\n",
    "plt.show();"
   ]
  },
  {
   "cell_type": "code",
   "execution_count": null,
   "metadata": {
    "id": "nP7SAJzdXYjt"
   },
   "outputs": [],
   "source": []
  }
 ],
 "metadata": {
  "colab": {
   "collapsed_sections": [
    "VJ6TB63aXAwx",
    "P35lhzhEXAxP",
    "05Vr_baaXAxh",
    "x7ABYG6OXAxj",
    "L1sG_9guXAxp",
    "HPjfNCFNXAxr",
    "IRDtTELKXAxu",
    "YsFazdUxXAxx",
    "3VsA6rOzXAxz"
   ],
   "name": "Copy of Copy of Untitled.ipynb",
   "provenance": [
    {
     "file_id": "11LL0UC_JO7H8dPDMcMeLYBWOjvUhzr-d",
     "timestamp": 1610872110347
    },
    {
     "file_id": "1ZhEBvk5UOowcH0TWdiVzUV2gWnTlG0Ow",
     "timestamp": 1610814673391
    }
   ]
  },
  "kernelspec": {
   "display_name": "Python 3",
   "language": "python",
   "name": "python3"
  },
  "language_info": {
   "codemirror_mode": {
    "name": "ipython",
    "version": 3
   },
   "file_extension": ".py",
   "mimetype": "text/x-python",
   "name": "python",
   "nbconvert_exporter": "python",
   "pygments_lexer": "ipython3",
   "version": "3.8.3"
  }
 },
 "nbformat": 4,
 "nbformat_minor": 1
}
